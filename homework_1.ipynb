{
 "cells": [
  {
   "cell_type": "code",
   "execution_count": 8,
   "metadata": {},
   "outputs": [],
   "source": [
    "BEIJING,CHANGCHUN,MULUMUQI,WUHAN,GUANGZHOU,SHENZHEN,BANGKOK,SHANGHAI,NEWYORK = \"\"\"\n",
    "BEIJING CHANGCHUN MULUMUQI WUHAN GUANGZHOU SHENZHEN BANGKOK SHANGHAI NEWYORK\"\"\".split()"
   ]
  },
  {
   "cell_type": "code",
   "execution_count": 9,
   "metadata": {},
   "outputs": [],
   "source": [
    "dictionary = {}"
   ]
  },
  {
   "cell_type": "code",
   "execution_count": 10,
   "metadata": {},
   "outputs": [],
   "source": [
    "connection = {\n",
    "    CHANGCHUN :[BEIJING],\n",
    "    MULUMUQI : [BEIJING],\n",
    "    BEIJING : [MULUMUQI,CHANGCHUN,WUHAN,SHENZHEN,NEWYORK],\n",
    "    NEWYORK : [BEIJING,SHANGHAI],\n",
    "    SHANGHAI : [NEWYORK,WUHAN],\n",
    "    WUHAN : [SHANGHAI,BEIJING,GUANGZHOU],\n",
    "    GUANGZHOU : [WUHAN,BANGKOK],\n",
    "    SHENZHEN : [WUHAN, BANGKOK],\n",
    "    BANGKOK:[SHENZHEN,GUANGZHOU]  \n",
    "}"
   ]
  },
  {
   "cell_type": "code",
   "execution_count": 11,
   "metadata": {},
   "outputs": [],
   "source": [
    "import networkx as nx"
   ]
  },
  {
   "cell_type": "code",
   "execution_count": 12,
   "metadata": {},
   "outputs": [],
   "source": [
    "%matplotlib inline "
   ]
  },
  {
   "cell_type": "code",
   "execution_count": 13,
   "metadata": {},
   "outputs": [],
   "source": [
    "graph = connection"
   ]
  },
  {
   "cell_type": "code",
   "execution_count": 14,
   "metadata": {},
   "outputs": [],
   "source": [
    "g = nx.Graph(graph)"
   ]
  },
  {
   "cell_type": "code",
   "execution_count": 15,
   "metadata": {},
   "outputs": [
    {
     "data": {
      "image/png": "[encoded data removed]",
      "text/plain": [
       "<Figure size 432x288 with 1 Axes>"
      ]
     },
     "metadata": {},
     "output_type": "display_data"
    }
   ],
   "source": [
    "nx.draw(g)"
   ]
  },
  {
   "cell_type": "code",
   "execution_count": 16,
   "metadata": {},
   "outputs": [],
   "source": [
    "def nagivator(start, desination,connection_graph):\n",
    "    pathes = [[start]]\n",
    "    seen = set()\n",
    "    while pathes:\n",
    "        path = pathes.pop(0)\n",
    "        froniter = path[-1]\n",
    "        \n",
    "        if froniter in seen:continue\n",
    "        successors = connection_graph[froniter]\n",
    "            \n",
    "        for s in successors:\n",
    "             if s == desination:\n",
    "                path.append(s)\n",
    "                return path\n",
    "             else:\n",
    "                pathes.append(path + [s])\n",
    "        pathes = sorted(pathes,key = len)\n",
    "        seen.add(froniter)      "
   ]
  },
  {
   "cell_type": "code",
   "execution_count": 31,
   "metadata": {},
   "outputs": [],
   "source": [
    "def nagivator_bfs(start,destination,connection_graph):\n",
    "    pathes = [start]\n",
    "    seen = set ()\n",
    "    while pathes:\n",
    "        froniter = pathes.pop(0)\n",
    "        if froniter in seen :continue\n",
    "        \n",
    "        successors = connection_graph[froniter]\n",
    "        print (\"I standing on {} looking forward {}\".format(froniter,successors))\n",
    "        pathes = pathes + successors\n",
    "        seen.add(froniter)\n",
    "    "
   ]
  },
  {
   "cell_type": "code",
   "execution_count": 32,
   "metadata": {},
   "outputs": [
    {
     "name": "stdout",
     "output_type": "stream",
     "text": [
      "I  standing on CHANGCHUN looking forward ['BEIJING']\n",
      "I  standing on BEIJING looking forward ['MULUMUQI', 'CHANGCHUN', 'WUHAN', 'SHENZHEN', 'NEWYORK']\n",
      "I  standing on MULUMUQI looking forward ['BEIJING']\n",
      "I  standing on WUHAN looking forward ['SHANGHAI', 'BEIJING', 'GUANGZHOU']\n",
      "I  standing on SHENZHEN looking forward ['WUHAN', 'BANGKOK']\n",
      "I  standing on NEWYORK looking forward ['BEIJING', 'SHANGHAI']\n",
      "I  standing on SHANGHAI looking forward ['NEWYORK', 'WUHAN']\n",
      "I  standing on GUANGZHOU looking forward ['WUHAN', 'BANGKOK']\n",
      "I  standing on BANGKOK looking forward ['SHENZHEN', 'GUANGZHOU']\n"
     ]
    }
   ],
   "source": [
    "nagivator_bfs (CHANGCHUN,GUANGZHOU,connection)"
   ]
  },
  {
   "cell_type": "code",
   "execution_count": 33,
   "metadata": {},
   "outputs": [
    {
     "data": {
      "text/plain": [
       "['CHANGCHUN', 'BEIJING', 'WUHAN', 'GUANGZHOU']"
      ]
     },
     "execution_count": 33,
     "metadata": {},
     "output_type": "execute_result"
    }
   ],
   "source": [
    "nagivator (CHANGCHUN,GUANGZHOU,connection)"
   ]
  },
  {
   "cell_type": "code",
   "execution_count": 18,
   "metadata": {},
   "outputs": [],
   "source": [
    "connection_2 = {\n",
    "    0:[1,5],\n",
    "    1:[0,2],\n",
    "    2:[1,3],\n",
    "    3:[2,4],\n",
    "    4:[3],\n",
    "    5:[0,6],\n",
    "    6:[5,7],\n",
    "    7:[6]\n",
    "}"
   ]
  },
  {
   "cell_type": "code",
   "execution_count": 19,
   "metadata": {},
   "outputs": [
    {
     "data": {
      "image/png": "[encoded data removed]",
      "text/plain": [
       "<Figure size 432x288 with 1 Axes>"
      ]
     },
     "metadata": {},
     "output_type": "display_data"
    }
   ],
   "source": [
    "nx.draw(nx.Graph(connection_2))"
   ]
  },
  {
   "cell_type": "code",
   "execution_count": 20,
   "metadata": {},
   "outputs": [
    {
     "name": "stdout",
     "output_type": "stream",
     "text": [
      "standing on 0 looking forward [1, 5]\n",
      "standing on 1 looking forward [0, 2]\n",
      "standing on 5 looking forward [0, 6]\n",
      "standing on 2 looking forward [1, 3]\n",
      "standing on 6 looking forward [5, 7]\n",
      "standing on 3 looking forward [2, 4]\n",
      "standing on 7 looking forward [6]\n",
      "standing on 4 looking forward [3]\n"
     ]
    }
   ],
   "source": [
    "nagivator_bfs(0,7,connection_2)"
   ]
  },
  {
   "cell_type": "code",
   "execution_count": 21,
   "metadata": {},
   "outputs": [],
   "source": [
    "grammar = \"\"\"\n",
    "sentence => noun_phrase verb_phrase\n",
    "noun_phrase => Article Adj* noun\n",
    "Adj* => null|Adj Adj*\n",
    "verb_phrase => verb noun_phrase\n",
    "Article => 一个|这个\n",
    "noun =>女人|篮球|桌子|小猫\n",
    "verb =>看着|坐在|听着|看见 \n",
    "Adj => 蓝色的|好看的|小小的 \n",
    "\"\"\""
   ]
  },
  {
   "cell_type": "code",
   "execution_count": 22,
   "metadata": {},
   "outputs": [],
   "source": [
    "import random"
   ]
  },
  {
   "cell_type": "code",
   "execution_count": 24,
   "metadata": {},
   "outputs": [],
   "source": [
    "def parse_grammar(grammar_str,sep = \"=>\"):\n",
    "    grammar = {}\n",
    "    for line in grammar_str.split('\\n'):\n",
    "        \n",
    "        line = line.strip()\n",
    "        if not line: continue\n",
    "        target,rules = line.split(sep)\n",
    "        grammar[target.strip()] = [r.split() for r in rules.split('|')]\n",
    "    return grammar"
   ]
  },
  {
   "cell_type": "code",
   "execution_count": 25,
   "metadata": {},
   "outputs": [],
   "source": [
    "g = parse_grammar(grammar)"
   ]
  },
  {
   "cell_type": "code",
   "execution_count": 26,
   "metadata": {},
   "outputs": [
    {
     "data": {
      "text/plain": [
       "{'sentence': [['noun_phrase', 'verb_phrase']],\n",
       " 'noun_phrase': [['Article', 'Adj*', 'noun']],\n",
       " 'Adj*': [['null'], ['Adj', 'Adj*']],\n",
       " 'verb_phrase': [['verb', 'noun_phrase']],\n",
       " 'Article': [['一个'], ['这个']],\n",
       " 'noun': [['女人'], ['篮球'], ['桌子'], ['小猫']],\n",
       " 'verb': [['看着'], ['坐在'], ['听着'], ['看见']],\n",
       " 'Adj': [['蓝色的'], ['好看的'], ['小小的']]}"
      ]
     },
     "execution_count": 26,
     "metadata": {},
     "output_type": "execute_result"
    }
   ],
   "source": [
    "g"
   ]
  },
  {
   "cell_type": "code",
   "execution_count": 46,
   "metadata": {},
   "outputs": [],
   "source": [
    "def gene(grammar_parsed, target = 'sentence'):\n",
    "    if target not in grammar_parsed:return target\n",
    "    \n",
    "    rule = random.choice(grammar_parsed[target])\n",
    "    return ' '.join(gene(grammar_parsed,target = r) for r in rule if r!='null')"
   ]
  },
  {
   "cell_type": "code",
   "execution_count": 47,
   "metadata": {},
   "outputs": [
    {
     "data": {
      "text/plain": [
       "[['女人'], ['篮球'], ['桌子'], ['小猫']]"
      ]
     },
     "execution_count": 47,
     "metadata": {},
     "output_type": "execute_result"
    }
   ],
   "source": [
    "g[\"noun\"]"
   ]
  },
  {
   "cell_type": "code",
   "execution_count": 48,
   "metadata": {},
   "outputs": [
    {
     "data": {
      "text/plain": [
       "'一个  小猫 看着 一个  女人'"
      ]
     },
     "execution_count": 48,
     "metadata": {},
     "output_type": "execute_result"
    }
   ],
   "source": [
    "gene(g)"
   ]
  },
  {
   "cell_type": "code",
   "execution_count": null,
   "metadata": {},
   "outputs": [],
   "source": []
  },
  {
   "cell_type": "code",
   "execution_count": null,
   "metadata": {},
   "outputs": [],
   "source": []
  }
 ],
 "metadata": {
  "kernelspec": {
   "display_name": "Python 3",
   "language": "python",
   "name": "python3"
  },
  "language_info": {
   "codemirror_mode": {
    "name": "ipython",
    "version": 3
   },
   "file_extension": ".py",
   "mimetype": "text/x-python",
   "name": "python",
   "nbconvert_exporter": "python",
   "pygments_lexer": "ipython3",
   "version": "3.7.1"
  }
 },
 "nbformat": 4,
 "nbformat_minor": 2
}
