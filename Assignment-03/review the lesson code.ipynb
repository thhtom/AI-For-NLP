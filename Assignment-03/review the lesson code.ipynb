{
 "cells": [
  {
   "cell_type": "code",
   "execution_count": 1,
   "metadata": {},
   "outputs": [],
   "source": [
    "import matplotlib"
   ]
  },
  {
   "cell_type": "code",
   "execution_count": 2,
   "metadata": {},
   "outputs": [
    {
     "data": {
      "text/plain": [
       "['/Users/tom/anaconda3/lib/python3.7/site-packages/matplotlib']"
      ]
     },
     "execution_count": 2,
     "metadata": {},
     "output_type": "execute_result"
    }
   ],
   "source": [
    "matplotlib.__path__"
   ]
  },
  {
   "cell_type": "code",
   "execution_count": 3,
   "metadata": {},
   "outputs": [],
   "source": [
    "import matplotlib.pyplot as plot"
   ]
  },
  {
   "cell_type": "code",
   "execution_count": 4,
   "metadata": {},
   "outputs": [
    {
     "name": "stdout",
     "output_type": "stream",
     "text": [
      "Answer following questions.txt lesson-03.py\r\n",
      "baidu.ipynb                    review the lesson code.ipynb\r\n"
     ]
    }
   ],
   "source": [
    "!ls"
   ]
  },
  {
   "cell_type": "code",
   "execution_count": 5,
   "metadata": {},
   "outputs": [],
   "source": [
    "f = open('review the lesson code.ipynb')"
   ]
  },
  {
   "cell_type": "code",
   "execution_count": 6,
   "metadata": {},
   "outputs": [
    {
     "data": {
      "text/plain": [
       "['{\\n',\n",
       " ' \"cells\": [\\n',\n",
       " '  {\\n',\n",
       " '   \"cell_type\": \"code\",\\n',\n",
       " '   \"execution_count\": 1,\\n',\n",
       " '   \"metadata\": {},\\n',\n",
       " '   \"outputs\": [],\\n',\n",
       " '   \"source\": [\\n',\n",
       " '    \"import matplotlib\"\\n',\n",
       " '   ]\\n',\n",
       " '  },\\n',\n",
       " '  {\\n',\n",
       " '   \"cell_type\": \"code\",\\n',\n",
       " '   \"execution_count\": 2,\\n',\n",
       " '   \"metadata\": {},\\n',\n",
       " '   \"outputs\": [\\n',\n",
       " '    {\\n',\n",
       " '     \"data\": {\\n',\n",
       " '      \"text/plain\": [\\n',\n",
       " '       \"[\\'/Users/tom/anaconda3/lib/python3.7/site-packages/matplotlib\\']\"\\n',\n",
       " '      ]\\n',\n",
       " '     },\\n',\n",
       " '     \"execution_count\": 2,\\n',\n",
       " '     \"metadata\": {},\\n',\n",
       " '     \"output_type\": \"execute_result\"\\n',\n",
       " '    }\\n',\n",
       " '   ],\\n',\n",
       " '   \"source\": [\\n',\n",
       " '    \"matplotlib.__path__\"\\n',\n",
       " '   ]\\n',\n",
       " '  },\\n',\n",
       " '  {\\n',\n",
       " '   \"cell_type\": \"code\",\\n',\n",
       " '   \"execution_count\": 3,\\n',\n",
       " '   \"metadata\": {},\\n',\n",
       " '   \"outputs\": [\\n',\n",
       " '    {\\n',\n",
       " '     \"name\": \"stdout\",\\n',\n",
       " '     \"output_type\": \"stream\",\\n',\n",
       " '     \"text\": [\\n',\n",
       " '      \"review the lesson code.ipynb\\\\r\\\\n\"\\n',\n",
       " '     ]\\n',\n",
       " '    }\\n',\n",
       " '   ],\\n',\n",
       " '   \"source\": [\\n',\n",
       " '    \"import matplotlib.pyplot as plot\"\\n',\n",
       " '   ]\\n',\n",
       " '  },\\n',\n",
       " '  {\\n',\n",
       " '   \"cell_type\": \"code\",\\n',\n",
       " '   \"execution_count\": 4,\\n',\n",
       " '   \"metadata\": {},\\n',\n",
       " '   \"outputs\": [\\n',\n",
       " '    {\\n',\n",
       " '     \"name\": \"stdout\",\\n',\n",
       " '     \"output_type\": \"stream\",\\n',\n",
       " '     \"text\": [\\n',\n",
       " '      \"review the lesson code.ipynb\\\\r\\\\n\"\\n',\n",
       " '     ]\\n',\n",
       " '    }\\n',\n",
       " '   ],\\n',\n",
       " '   \"source\": [\\n',\n",
       " '    \"!ls\"\\n',\n",
       " '   ]\\n',\n",
       " '  },\\n',\n",
       " '  {\\n',\n",
       " '   \"cell_type\": \"code\",\\n',\n",
       " '   \"execution_count\": 5,\\n',\n",
       " '   \"metadata\": {},\\n',\n",
       " '   \"outputs\": [],\\n',\n",
       " '   \"source\": [\\n',\n",
       " '    \"f = open(\\'review the lesson code.ipynb\\')\"\\n',\n",
       " '   ]\\n',\n",
       " '  },\\n',\n",
       " '  {\\n',\n",
       " '   \"cell_type\": \"code\",\\n',\n",
       " '   \"execution_count\": 6,\\n',\n",
       " '   \"metadata\": {},\\n',\n",
       " '   \"outputs\": [\\n',\n",
       " '    {\\n',\n",
       " '     \"data\": {\\n',\n",
       " '      \"text/plain\": [\\n',\n",
       " '       \"[\\'{\\\\\\\\n\\',\\\\n\",\\n',\n",
       " '       \" \\' \\\\\"cells\\\\\": [\\\\\\\\n\\',\\\\n\",\\n',\n",
       " '       \" \\'  {\\\\\\\\n\\',\\\\n\",\\n',\n",
       " '       \" \\'   \\\\\"cell_type\\\\\": \\\\\"code\\\\\",\\\\\\\\n\\',\\\\n\",\\n',\n",
       " '       \" \\'   \\\\\"execution_count\\\\\": 1,\\\\\\\\n\\',\\\\n\",\\n',\n",
       " '       \" \\'   \\\\\"metadata\\\\\": {},\\\\\\\\n\\',\\\\n\",\\n',\n",
       " '       \" \\'   \\\\\"outputs\\\\\": [],\\\\\\\\n\\',\\\\n\",\\n',\n",
       " '       \" \\'   \\\\\"source\\\\\": [\\\\\\\\n\\',\\\\n\",\\n',\n",
       " '       \" \\'    \\\\\"import matplotlib\\\\\"\\\\\\\\n\\',\\\\n\",\\n',\n",
       " '       \" \\'   ]\\\\\\\\n\\',\\\\n\",\\n',\n",
       " '       \" \\'  },\\\\\\\\n\\',\\\\n\",\\n',\n",
       " '       \" \\'  {\\\\\\\\n\\',\\\\n\",\\n',\n",
       " '       \" \\'   \\\\\"cell_type\\\\\": \\\\\"code\\\\\",\\\\\\\\n\\',\\\\n\",\\n',\n",
       " '       \" \\'   \\\\\"execution_count\\\\\": 2,\\\\\\\\n\\',\\\\n\",\\n',\n",
       " '       \" \\'   \\\\\"metadata\\\\\": {},\\\\\\\\n\\',\\\\n\",\\n',\n",
       " '       \" \\'   \\\\\"outputs\\\\\": [\\\\\\\\n\\',\\\\n\",\\n',\n",
       " '       \" \\'    {\\\\\\\\n\\',\\\\n\",\\n',\n",
       " '       \" \\'     \\\\\"data\\\\\": {\\\\\\\\n\\',\\\\n\",\\n',\n",
       " '       \" \\'      \\\\\"text/plain\\\\\": [\\\\\\\\n\\',\\\\n\",\\n',\n",
       " '       \" \\'       \\\\\"[\\\\\\\\\\'/Users/tom/anaconda3/lib/python3.7/site-packages/matplotlib\\\\\\\\\\']\\\\\"\\\\\\\\n\\',\\\\n\",\\n',\n",
       " '       \" \\'      ]\\\\\\\\n\\',\\\\n\",\\n',\n",
       " '       \" \\'     },\\\\\\\\n\\',\\\\n\",\\n',\n",
       " '       \" \\'     \\\\\"execution_count\\\\\": 2,\\\\\\\\n\\',\\\\n\",\\n',\n",
       " '       \" \\'     \\\\\"metadata\\\\\": {},\\\\\\\\n\\',\\\\n\",\\n',\n",
       " '       \" \\'     \\\\\"output_type\\\\\": \\\\\"execute_result\\\\\"\\\\\\\\n\\',\\\\n\",\\n',\n",
       " '       \" \\'    }\\\\\\\\n\\',\\\\n\",\\n',\n",
       " '       \" \\'   ],\\\\\\\\n\\',\\\\n\",\\n',\n",
       " '       \" \\'   \\\\\"source\\\\\": [\\\\\\\\n\\',\\\\n\",\\n',\n",
       " '       \" \\'    \\\\\"matplotlib.__path__\\\\\"\\\\\\\\n\\',\\\\n\",\\n',\n",
       " '       \" \\'   ]\\\\\\\\n\\',\\\\n\",\\n',\n",
       " '       \" \\'  },\\\\\\\\n\\',\\\\n\",\\n',\n",
       " '       \" \\'  {\\\\\\\\n\\',\\\\n\",\\n',\n",
       " '       \" \\'   \\\\\"cell_type\\\\\": \\\\\"code\\\\\",\\\\\\\\n\\',\\\\n\",\\n',\n",
       " '       \" \\'   \\\\\"execution_count\\\\\": 3,\\\\\\\\n\\',\\\\n\",\\n',\n",
       " '       \" \\'   \\\\\"metadata\\\\\": {},\\\\\\\\n\\',\\\\n\",\\n',\n",
       " '       \" \\'   \\\\\"outputs\\\\\": [\\\\\\\\n\\',\\\\n\",\\n',\n",
       " '       \" \\'    {\\\\\\\\n\\',\\\\n\",\\n',\n",
       " '       \" \\'     \\\\\"name\\\\\": \\\\\"stdout\\\\\",\\\\\\\\n\\',\\\\n\",\\n',\n",
       " '       \" \\'     \\\\\"output_type\\\\\": \\\\\"stream\\\\\",\\\\\\\\n\\',\\\\n\",\\n',\n",
       " '       \" \\'     \\\\\"text\\\\\": [\\\\\\\\n\\',\\\\n\",\\n',\n",
       " '       \" \\'      \\\\\"review the lesson code.ipynb\\\\\\\\\\\\\\\\r\\\\\\\\\\\\\\\\n\\\\\"\\\\\\\\n\\',\\\\n\",\\n',\n",
       " '       \" \\'     ]\\\\\\\\n\\',\\\\n\",\\n',\n",
       " '       \" \\'    }\\\\\\\\n\\',\\\\n\",\\n',\n",
       " '       \" \\'   ],\\\\\\\\n\\',\\\\n\",\\n',\n",
       " '       \" \\'   \\\\\"source\\\\\": [\\\\\\\\n\\',\\\\n\",\\n',\n",
       " '       \" \\'    \\\\\"import matplotlib.pyplot as plot\\\\\"\\\\\\\\n\\',\\\\n\",\\n',\n",
       " '       \" \\'   ]\\\\\\\\n\\',\\\\n\",\\n',\n",
       " '       \" \\'  },\\\\\\\\n\\',\\\\n\",\\n',\n",
       " '       \" \\'  {\\\\\\\\n\\',\\\\n\",\\n',\n",
       " '       \" \\'   \\\\\"cell_type\\\\\": \\\\\"code\\\\\",\\\\\\\\n\\',\\\\n\",\\n',\n",
       " '       \" \\'   \\\\\"execution_count\\\\\": 4,\\\\\\\\n\\',\\\\n\",\\n',\n",
       " '       \" \\'   \\\\\"metadata\\\\\": {},\\\\\\\\n\\',\\\\n\",\\n',\n",
       " '       \" \\'   \\\\\"outputs\\\\\": [\\\\\\\\n\\',\\\\n\",\\n',\n",
       " '       \" \\'    {\\\\\\\\n\\',\\\\n\",\\n',\n",
       " '       \" \\'     \\\\\"name\\\\\": \\\\\"stdout\\\\\",\\\\\\\\n\\',\\\\n\",\\n',\n",
       " '       \" \\'     \\\\\"output_type\\\\\": \\\\\"stream\\\\\",\\\\\\\\n\\',\\\\n\",\\n',\n",
       " '       \" \\'     \\\\\"text\\\\\": [\\\\\\\\n\\',\\\\n\",\\n',\n",
       " '       \" \\'      \\\\\"review the lesson code.ipynb\\\\\\\\\\\\\\\\r\\\\\\\\\\\\\\\\n\\\\\"\\\\\\\\n\\',\\\\n\",\\n',\n",
       " '       \" \\'     ]\\\\\\\\n\\',\\\\n\",\\n',\n",
       " '       \" \\'    }\\\\\\\\n\\',\\\\n\",\\n',\n",
       " '       \" \\'   ],\\\\\\\\n\\',\\\\n\",\\n',\n",
       " '       \" \\'   \\\\\"source\\\\\": [\\\\\\\\n\\',\\\\n\",\\n',\n",
       " '       \" \\'    \\\\\"!ls\\\\\"\\\\\\\\n\\',\\\\n\",\\n',\n",
       " '       \" \\'   ]\\\\\\\\n\\',\\\\n\",\\n',\n",
       " '       \" \\'  },\\\\\\\\n\\',\\\\n\",\\n',\n",
       " '       \" \\'  {\\\\\\\\n\\',\\\\n\",\\n',\n",
       " '       \" \\'   \\\\\"cell_type\\\\\": \\\\\"code\\\\\",\\\\\\\\n\\',\\\\n\",\\n',\n",
       " '       \" \\'   \\\\\"execution_count\\\\\": 5,\\\\\\\\n\\',\\\\n\",\\n',\n",
       " '       \" \\'   \\\\\"metadata\\\\\": {},\\\\\\\\n\\',\\\\n\",\\n',\n",
       " '       \" \\'   \\\\\"outputs\\\\\": [],\\\\\\\\n\\',\\\\n\",\\n',\n",
       " '       \" \\'   \\\\\"source\\\\\": [\\\\\\\\n\\',\\\\n\",\\n',\n",
       " '       \" \\'    \\\\\"f = open(\\\\\\\\\\'review the lesson code.ipynb\\\\\\\\\\')\\\\\"\\\\\\\\n\\',\\\\n\",\\n',\n",
       " '       \" \\'   ]\\\\\\\\n\\',\\\\n\",\\n',\n",
       " '       \" \\'  },\\\\\\\\n\\',\\\\n\",\\n',\n",
       " '       \" \\'  {\\\\\\\\n\\',\\\\n\",\\n',\n",
       " '       \" \\'   \\\\\"cell_type\\\\\": \\\\\"code\\\\\",\\\\\\\\n\\',\\\\n\",\\n',\n",
       " '       \" \\'   \\\\\"execution_count\\\\\": null,\\\\\\\\n\\',\\\\n\",\\n',\n",
       " '       \" \\'   \\\\\"metadata\\\\\": {},\\\\\\\\n\\',\\\\n\",\\n',\n",
       " '       \" \\'   \\\\\"outputs\\\\\": [],\\\\\\\\n\\',\\\\n\",\\n',\n",
       " '       \" \\'   \\\\\"source\\\\\": [\\\\\\\\n\\',\\\\n\",\\n',\n",
       " '       \" \\'    \\\\\"f.rea\\\\\"\\\\\\\\n\\',\\\\n\",\\n',\n",
       " '       \" \\'   ]\\\\\\\\n\\',\\\\n\",\\n',\n",
       " '       \" \\'  }\\\\\\\\n\\',\\\\n\",\\n',\n",
       " '       \" \\' ],\\\\\\\\n\\',\\\\n\",\\n',\n",
       " '       \" \\' \\\\\"metadata\\\\\": {\\\\\\\\n\\',\\\\n\",\\n',\n",
       " '       \" \\'  \\\\\"kernelspec\\\\\": {\\\\\\\\n\\',\\\\n\",\\n',\n",
       " '       \" \\'   \\\\\"display_name\\\\\": \\\\\"Python 3\\\\\",\\\\\\\\n\\',\\\\n\",\\n',\n",
       " '       \" \\'   \\\\\"language\\\\\": \\\\\"python\\\\\",\\\\\\\\n\\',\\\\n\",\\n',\n",
       " '       \" \\'   \\\\\"name\\\\\": \\\\\"python3\\\\\"\\\\\\\\n\\',\\\\n\",\\n',\n",
       " '       \" \\'  },\\\\\\\\n\\',\\\\n\",\\n',\n",
       " '       \" \\'  \\\\\"language_info\\\\\": {\\\\\\\\n\\',\\\\n\",\\n',\n",
       " '       \" \\'   \\\\\"codemirror_mode\\\\\": {\\\\\\\\n\\',\\\\n\",\\n',\n",
       " '       \" \\'    \\\\\"name\\\\\": \\\\\"ipython\\\\\",\\\\\\\\n\\',\\\\n\",\\n',\n",
       " '       \" \\'    \\\\\"version\\\\\": 3\\\\\\\\n\\',\\\\n\",\\n',\n",
       " '       \" \\'   },\\\\\\\\n\\',\\\\n\",\\n',\n",
       " '       \" \\'   \\\\\"file_extension\\\\\": \\\\\".py\\\\\",\\\\\\\\n\\',\\\\n\",\\n',\n",
       " '       \" \\'   \\\\\"mimetype\\\\\": \\\\\"text/x-python\\\\\",\\\\\\\\n\\',\\\\n\",\\n',\n",
       " '       \" \\'   \\\\\"name\\\\\": \\\\\"python\\\\\",\\\\\\\\n\\',\\\\n\",\\n',\n",
       " '       \" \\'   \\\\\"nbconvert_exporter\\\\\": \\\\\"python\\\\\",\\\\\\\\n\\',\\\\n\",\\n',\n",
       " '       \" \\'   \\\\\"pygments_lexer\\\\\": \\\\\"ipython3\\\\\",\\\\\\\\n\\',\\\\n\",\\n',\n",
       " '       \" \\'   \\\\\"version\\\\\": \\\\\"3.7.1\\\\\"\\\\\\\\n\\',\\\\n\",\\n',\n",
       " '       \" \\'  }\\\\\\\\n\\',\\\\n\",\\n',\n",
       " '       \" \\' },\\\\\\\\n\\',\\\\n\",\\n',\n",
       " '       \" \\' \\\\\"nbformat\\\\\": 4,\\\\\\\\n\\',\\\\n\",\\n',\n",
       " '       \" \\' \\\\\"nbformat_minor\\\\\": 2\\\\\\\\n\\',\\\\n\",\\n',\n",
       " '       \" \\'}\\\\\\\\n\\']\"\\n',\n",
       " '      ]\\n',\n",
       " '     },\\n',\n",
       " '     \"execution_count\": 6,\\n',\n",
       " '     \"metadata\": {},\\n',\n",
       " '     \"output_type\": \"execute_result\"\\n',\n",
       " '    }\\n',\n",
       " '   ],\\n',\n",
       " '   \"source\": [\\n',\n",
       " '    \"f.readlines()\"\\n',\n",
       " '   ]\\n',\n",
       " '  },\\n',\n",
       " '  {\\n',\n",
       " '   \"cell_type\": \"code\",\\n',\n",
       " '   \"execution_count\": 8,\\n',\n",
       " '   \"metadata\": {},\\n',\n",
       " '   \"outputs\": [],\\n',\n",
       " '   \"source\": [\\n',\n",
       " '    \"for line in f.readlines():\\\\n\",\\n',\n",
       " '    \"    print(line)\"\\n',\n",
       " '   ]\\n',\n",
       " '  },\\n',\n",
       " '  {\\n',\n",
       " '   \"cell_type\": \"code\",\\n',\n",
       " '   \"execution_count\": 9,\\n',\n",
       " '   \"metadata\": {},\\n',\n",
       " '   \"outputs\": [],\\n',\n",
       " '   \"source\": [\\n',\n",
       " '    \"import time\"\\n',\n",
       " '   ]\\n',\n",
       " '  },\\n',\n",
       " '  {\\n',\n",
       " '   \"cell_type\": \"code\",\\n',\n",
       " '   \"execution_count\": 10,\\n',\n",
       " '   \"metadata\": {},\\n',\n",
       " '   \"outputs\": [],\\n',\n",
       " '   \"source\": [\\n',\n",
       " '    \"def func(i):\\\\n\",\\n',\n",
       " '    \"    time.sleep(0.2)\\\\n\",\\n',\n",
       " '    \"    return i\"\\n',\n",
       " '   ]\\n',\n",
       " '  },\\n',\n",
       " '  {\\n',\n",
       " '   \"cell_type\": \"code\",\\n',\n",
       " '   \"execution_count\": 11,\\n',\n",
       " '   \"metadata\": {},\\n',\n",
       " '   \"outputs\": [],\\n',\n",
       " '   \"source\": [\\n',\n",
       " '    \"def gene_func():\\\\n\",\\n',\n",
       " '    \"    yield 1\\\\n\",\\n',\n",
       " '    \"    yield 2\\\\n\",\\n',\n",
       " '    \"    yield 3 \\\\n\"\\n',\n",
       " '   ]\\n',\n",
       " '  },\\n',\n",
       " '  {\\n',\n",
       " '   \"cell_type\": \"code\",\\n',\n",
       " '   \"execution_count\": 13,\\n',\n",
       " '   \"metadata\": {},\\n',\n",
       " '   \"outputs\": [],\\n',\n",
       " '   \"source\": [\\n',\n",
       " '    \"g = gene_func()\"\\n',\n",
       " '   ]\\n',\n",
       " '  },\\n',\n",
       " '  {\\n',\n",
       " '   \"cell_type\": \"code\",\\n',\n",
       " '   \"execution_count\": 14,\\n',\n",
       " '   \"metadata\": {},\\n',\n",
       " '   \"outputs\": [\\n',\n",
       " '    {\\n',\n",
       " '     \"data\": {\\n',\n",
       " '      \"text/plain\": [\\n',\n",
       " '       \"1\"\\n',\n",
       " '      ]\\n',\n",
       " '     },\\n',\n",
       " '     \"execution_count\": 14,\\n',\n",
       " '     \"metadata\": {},\\n',\n",
       " '     \"output_type\": \"execute_result\"\\n',\n",
       " '    }\\n',\n",
       " '   ],\\n',\n",
       " '   \"source\": [\\n',\n",
       " '    \"next(g)\"\\n',\n",
       " '   ]\\n',\n",
       " '  },\\n',\n",
       " '  {\\n',\n",
       " '   \"cell_type\": \"code\",\\n',\n",
       " '   \"execution_count\": 15,\\n',\n",
       " '   \"metadata\": {},\\n',\n",
       " '   \"outputs\": [\\n',\n",
       " '    {\\n',\n",
       " '     \"data\": {\\n',\n",
       " '      \"text/plain\": [\\n',\n",
       " '       \"2\"\\n',\n",
       " '      ]\\n',\n",
       " '     },\\n',\n",
       " '     \"execution_count\": 15,\\n',\n",
       " '     \"metadata\": {},\\n',\n",
       " '     \"output_type\": \"execute_result\"\\n',\n",
       " '    }\\n',\n",
       " '   ],\\n',\n",
       " '   \"source\": [\\n',\n",
       " '    \"next(g)\"\\n',\n",
       " '   ]\\n',\n",
       " '  },\\n',\n",
       " '  {\\n',\n",
       " '   \"cell_type\": \"code\",\\n',\n",
       " '   \"execution_count\": 16,\\n',\n",
       " '   \"metadata\": {},\\n',\n",
       " '   \"outputs\": [],\\n',\n",
       " '   \"source\": [\\n',\n",
       " '    \"def  loop(n):\\\\n\",\\n',\n",
       " '    \"    result = []\\\\n\",\\n',\n",
       " '    \"    for i in range(n):\\\\n\",\\n',\n",
       " '    \"        r = func(i)\\\\n\",\\n',\n",
       " '    \"        result.append(r)\\\\n\",\\n',\n",
       " '    \"    return result\"\\n',\n",
       " '   ]\\n',\n",
       " '  },\\n',\n",
       " '  {\\n',\n",
       " '   \"cell_type\": \"code\",\\n',\n",
       " '   \"execution_count\": 17,\\n',\n",
       " '   \"metadata\": {},\\n',\n",
       " '   \"outputs\": [\\n',\n",
       " '    {\\n',\n",
       " '     \"data\": {\\n',\n",
       " '      \"text/plain\": [\\n',\n",
       " '       \"[0, 1, 2, 3, 4, 5, 6, 7, 8, 9]\"\\n',\n",
       " '      ]\\n',\n",
       " '     },\\n',\n",
       " '     \"execution_count\": 17,\\n',\n",
       " '     \"metadata\": {},\\n',\n",
       " '     \"output_type\": \"execute_result\"\\n',\n",
       " '    }\\n',\n",
       " '   ],\\n',\n",
       " '   \"source\": [\\n',\n",
       " '    \"loop(10)\"\\n',\n",
       " '   ]\\n',\n",
       " '  },\\n',\n",
       " '  {\\n',\n",
       " '   \"cell_type\": \"code\",\\n',\n",
       " '   \"execution_count\": 18,\\n',\n",
       " '   \"metadata\": {},\\n',\n",
       " '   \"outputs\": [],\\n',\n",
       " '   \"source\": [\\n',\n",
       " '    \"def loop_with_gene(n):\\\\n\",\\n',\n",
       " '    \"    for i in range (n):\\\\n\",\\n',\n",
       " '    \"        r = func(i)\\\\n\",\\n',\n",
       " '    \"        yield r\"\\n',\n",
       " '   ]\\n',\n",
       " '  },\\n',\n",
       " '  {\\n',\n",
       " '   \"cell_type\": \"code\",\\n',\n",
       " '   \"execution_count\": 20,\\n',\n",
       " '   \"metadata\": {},\\n',\n",
       " '   \"outputs\": [],\\n',\n",
       " '   \"source\": [\\n',\n",
       " '    \"G  = loop_with_gene(10)\"\\n',\n",
       " '   ]\\n',\n",
       " '  },\\n',\n",
       " '  {\\n',\n",
       " '   \"cell_type\": \"code\",\\n',\n",
       " '   \"execution_count\": 22,\\n',\n",
       " '   \"metadata\": {},\\n',\n",
       " '   \"outputs\": [\\n',\n",
       " '    {\\n',\n",
       " '     \"data\": {\\n',\n",
       " '      \"text/plain\": [\\n',\n",
       " '       \"0\"\\n',\n",
       " '      ]\\n',\n",
       " '     },\\n',\n",
       " '     \"execution_count\": 22,\\n',\n",
       " '     \"metadata\": {},\\n',\n",
       " '     \"output_type\": \"execute_result\"\\n',\n",
       " '    }\\n',\n",
       " '   ],\\n',\n",
       " '   \"source\": [\\n',\n",
       " '    \"next(G)\"\\n',\n",
       " '   ]\\n',\n",
       " '  },\\n',\n",
       " '  {\\n',\n",
       " '   \"cell_type\": \"code\",\\n',\n",
       " '   \"execution_count\": 23,\\n',\n",
       " '   \"metadata\": {},\\n',\n",
       " '   \"outputs\": [\\n',\n",
       " '    {\\n',\n",
       " '     \"data\": {\\n',\n",
       " '      \"text/plain\": [\\n',\n",
       " '       \"1\"\\n',\n",
       " '      ]\\n',\n",
       " '     },\\n',\n",
       " '     \"execution_count\": 23,\\n',\n",
       " '     \"metadata\": {},\\n',\n",
       " '     \"output_type\": \"execute_result\"\\n',\n",
       " '    }\\n',\n",
       " '   ],\\n',\n",
       " '   \"source\": [\\n',\n",
       " '    \"next(G)\"\\n',\n",
       " '   ]\\n',\n",
       " '  },\\n',\n",
       " '  {\\n',\n",
       " '   \"cell_type\": \"code\",\\n',\n",
       " '   \"execution_count\": 25,\\n',\n",
       " '   \"metadata\": {},\\n',\n",
       " '   \"outputs\": [\\n',\n",
       " '    {\\n',\n",
       " '     \"name\": \"stdout\",\\n',\n",
       " '     \"output_type\": \"stream\",\\n',\n",
       " '     \"text\": [\\n',\n",
       " '      \"0\\\\n\",\\n',\n",
       " '      \"1\\\\n\",\\n',\n",
       " '      \"2\\\\n\",\\n',\n",
       " '      \"3\\\\n\",\\n',\n",
       " '      \"4\\\\n\",\\n',\n",
       " '      \"5\\\\n\",\\n',\n",
       " '      \"6\\\\n\",\\n',\n",
       " '      \"7\\\\n\",\\n',\n",
       " '      \"8\\\\n\",\\n',\n",
       " '      \"9\\\\n\"\\n',\n",
       " '     ]\\n',\n",
       " '    }\\n',\n",
       " '   ],\\n',\n",
       " '   \"source\": [\\n',\n",
       " '    \"for i in loop(10):\\\\n\",\\n',\n",
       " '    \"    print (i)\"\\n',\n",
       " '   ]\\n',\n",
       " '  },\\n',\n",
       " '  {\\n',\n",
       " '   \"cell_type\": \"code\",\\n',\n",
       " '   \"execution_count\": 26,\\n',\n",
       " '   \"metadata\": {},\\n',\n",
       " '   \"outputs\": [],\\n',\n",
       " '   \"source\": [\\n',\n",
       " '    \"import random\"\\n',\n",
       " '   ]\\n',\n",
       " '  },\\n',\n",
       " '  {\\n',\n",
       " '   \"cell_type\": \"code\",\\n',\n",
       " '   \"execution_count\": 30,\\n',\n",
       " '   \"metadata\": {},\\n',\n",
       " '   \"outputs\": [\\n',\n",
       " '    {\\n',\n",
       " '     \"data\": {\\n',\n",
       " '      \"text/plain\": [\\n',\n",
       " '       \"0.7190757003968431\"\\n',\n",
       " '      ]\\n',\n",
       " '     },\\n',\n",
       " '     \"execution_count\": 30,\\n',\n",
       " '     \"metadata\": {},\\n',\n",
       " '     \"output_type\": \"execute_result\"\\n',\n",
       " '    }\\n',\n",
       " '   ],\\n',\n",
       " '   \"source\": [\\n',\n",
       " '    \"random.random()*2-1\"\\n',\n",
       " '   ]\\n',\n",
       " '  },\\n',\n",
       " '  {\\n',\n",
       " '   \"cell_type\": \"code\",\\n',\n",
       " '   \"execution_count\": 31,\\n',\n",
       " '   \"metadata\": {},\\n',\n",
       " '   \"outputs\": [],\\n',\n",
       " '   \"source\": [\\n',\n",
       " '    \"import pandas as pd \"\\n',\n",
       " '   ]\\n',\n",
       " '  },\\n',\n",
       " '  {\\n',\n",
       " '   \"cell_type\": \"code\",\\n',\n",
       " '   \"execution_count\": 32,\\n',\n",
       " '   \"metadata\": {},\\n',\n",
       " '   \"outputs\": [],\\n',\n",
       " '   \"source\": [\\n',\n",
       " '    \"titantic_data = \\'/Users/Tom/Desktop/data/train.csv\\'\"\\n',\n",
       " '   ]\\n',\n",
       " '  },\\n',\n",
       " '  {\\n',\n",
       " '   \"cell_type\": \"code\",\\n',\n",
       " '   \"execution_count\": 36,\\n',\n",
       " '   \"metadata\": {},\\n',\n",
       " '   \"outputs\": [],\\n',\n",
       " '   \"source\": [\\n',\n",
       " '    \"content = pd.read_csv(titantic_data)\"\\n',\n",
       " '   ]\\n',\n",
       " '  },\\n',\n",
       " '  {\\n',\n",
       " '   \"cell_type\": \"code\",\\n',\n",
       " '   \"execution_count\": 37,\\n',\n",
       " '   \"metadata\": {},\\n',\n",
       " '   \"outputs\": [\\n',\n",
       " '    {\\n',\n",
       " '     \"data\": {\\n',\n",
       " '      \"text/html\": [\\n',\n",
       " '       \"<div>\\\\n\",\\n',\n",
       " '       \"<style scoped>\\\\n\",\\n',\n",
       " '       \"    .dataframe tbody tr th:only-of-type {\\\\n\",\\n',\n",
       " '       \"        vertical-align: middle;\\\\n\",\\n',\n",
       " '       \"    }\\\\n\",\\n',\n",
       " '       \"\\\\n\",\\n',\n",
       " '       \"    .dataframe tbody tr th {\\\\n\",\\n',\n",
       " '       \"        vertical-align: top;\\\\n\",\\n',\n",
       " '       \"    }\\\\n\",\\n',\n",
       " '       \"\\\\n\",\\n',\n",
       " '       \"    .dataframe thead th {\\\\n\",\\n',\n",
       " '       \"        text-align: right;\\\\n\",\\n',\n",
       " '       \"    }\\\\n\",\\n',\n",
       " '       \"</style>\\\\n\",\\n',\n",
       " '       \"<table border=\\\\\"1\\\\\" class=\\\\\"dataframe\\\\\">\\\\n\",\\n',\n",
       " '       \"  <thead>\\\\n\",\\n',\n",
       " '       \"    <tr style=\\\\\"text-align: right;\\\\\">\\\\n\",\\n',\n",
       " '       \"      <th></th>\\\\n\",\\n',\n",
       " '       \"      <th>PassengerId</th>\\\\n\",\\n',\n",
       " '       \"      <th>Survived</th>\\\\n\",\\n',\n",
       " '       \"      <th>Pclass</th>\\\\n\",\\n',\n",
       " '       \"      <th>Name</th>\\\\n\",\\n',\n",
       " '       \"      <th>Sex</th>\\\\n\",\\n',\n",
       " '       \"      <th>Age</th>\\\\n\",\\n',\n",
       " '       \"      <th>SibSp</th>\\\\n\",\\n',\n",
       " '       \"      <th>Parch</th>\\\\n\",\\n',\n",
       " '       \"      <th>Ticket</th>\\\\n\",\\n',\n",
       " '       \"      <th>Fare</th>\\\\n\",\\n',\n",
       " '       \"      <th>Cabin</th>\\\\n\",\\n',\n",
       " '       \"      <th>Embarked</th>\\\\n\",\\n',\n",
       " '       \"    </tr>\\\\n\",\\n',\n",
       " '       \"  </thead>\\\\n\",\\n',\n",
       " '       \"  <tbody>\\\\n\",\\n',\n",
       " '       \"    <tr>\\\\n\",\\n',\n",
       " '       \"      <th>0</th>\\\\n\",\\n',\n",
       " '       \"      <td>1</td>\\\\n\",\\n',\n",
       " '       \"      <td>0</td>\\\\n\",\\n',\n",
       " '       \"      <td>3</td>\\\\n\",\\n',\n",
       " '       \"      <td>Braund, Mr. Owen Harris</td>\\\\n\",\\n',\n",
       " '       \"      <td>male</td>\\\\n\",\\n',\n",
       " '       \"      <td>22.0</td>\\\\n\",\\n',\n",
       " '       \"      <td>1</td>\\\\n\",\\n',\n",
       " '       \"      <td>0</td>\\\\n\",\\n',\n",
       " '       \"      <td>A/5 21171</td>\\\\n\",\\n',\n",
       " '       \"      <td>7.2500</td>\\\\n\",\\n',\n",
       " '       \"      <td>NaN</td>\\\\n\",\\n',\n",
       " '       \"      <td>S</td>\\\\n\",\\n',\n",
       " '       \"    </tr>\\\\n\",\\n',\n",
       " '       \"    <tr>\\\\n\",\\n',\n",
       " '       \"      <th>1</th>\\\\n\",\\n',\n",
       " '       \"      <td>2</td>\\\\n\",\\n',\n",
       " '       \"      <td>1</td>\\\\n\",\\n',\n",
       " '       \"      <td>1</td>\\\\n\",\\n',\n",
       " '       \"      <td>Cumings, Mrs. John Bradley (Florence Briggs Th...</td>\\\\n\",\\n',\n",
       " '       \"      <td>female</td>\\\\n\",\\n',\n",
       " '       \"      <td>38.0</td>\\\\n\",\\n',\n",
       " '       \"      <td>1</td>\\\\n\",\\n',\n",
       " '       \"      <td>0</td>\\\\n\",\\n',\n",
       " '       \"      <td>PC 17599</td>\\\\n\",\\n',\n",
       " '       \"      <td>71.2833</td>\\\\n\",\\n',\n",
       " '       \"      <td>C85</td>\\\\n\",\\n',\n",
       " '       \"      <td>C</td>\\\\n\",\\n',\n",
       " '       \"    </tr>\\\\n\",\\n',\n",
       " '       \"    <tr>\\\\n\",\\n',\n",
       " '       \"      <th>2</th>\\\\n\",\\n',\n",
       " '       \"      <td>3</td>\\\\n\",\\n',\n",
       " '       \"      <td>1</td>\\\\n\",\\n',\n",
       " '       \"      <td>3</td>\\\\n\",\\n',\n",
       " '       \"      <td>Heikkinen, Miss. Laina</td>\\\\n\",\\n',\n",
       " '       \"      <td>female</td>\\\\n\",\\n',\n",
       " '       \"      <td>26.0</td>\\\\n\",\\n',\n",
       " '       \"      <td>0</td>\\\\n\",\\n',\n",
       " '       \"      <td>0</td>\\\\n\",\\n',\n",
       " '       \"      <td>STON/O2. 3101282</td>\\\\n\",\\n',\n",
       " '       \"      <td>7.9250</td>\\\\n\",\\n',\n",
       " '       \"      <td>NaN</td>\\\\n\",\\n',\n",
       " '       \"      <td>S</td>\\\\n\",\\n',\n",
       " '       \"    </tr>\\\\n\",\\n',\n",
       " '       \"    <tr>\\\\n\",\\n',\n",
       " '       \"      <th>3</th>\\\\n\",\\n',\n",
       " '       \"      <td>4</td>\\\\n\",\\n',\n",
       " '       \"      <td>1</td>\\\\n\",\\n',\n",
       " '       \"      <td>1</td>\\\\n\",\\n',\n",
       " '       \"      <td>Futrelle, Mrs. Jacques Heath (Lily May Peel)</td>\\\\n\",\\n',\n",
       " '       \"      <td>female</td>\\\\n\",\\n',\n",
       " '       \"      <td>35.0</td>\\\\n\",\\n',\n",
       " '       \"      <td>1</td>\\\\n\",\\n',\n",
       " '       \"      <td>0</td>\\\\n\",\\n',\n",
       " '       \"      <td>113803</td>\\\\n\",\\n',\n",
       " '       \"      <td>53.1000</td>\\\\n\",\\n',\n",
       " '       \"      <td>C123</td>\\\\n\",\\n',\n",
       " '       \"      <td>S</td>\\\\n\",\\n',\n",
       " '       \"    </tr>\\\\n\",\\n',\n",
       " '       \"    <tr>\\\\n\",\\n',\n",
       " '       \"      <th>4</th>\\\\n\",\\n',\n",
       " '       \"      <td>5</td>\\\\n\",\\n',\n",
       " '       \"      <td>0</td>\\\\n\",\\n',\n",
       " '       \"      <td>3</td>\\\\n\",\\n',\n",
       " '       \"      <td>Allen, Mr. William Henry</td>\\\\n\",\\n',\n",
       " '       \"      <td>male</td>\\\\n\",\\n',\n",
       " '       \"      <td>35.0</td>\\\\n\",\\n',\n",
       " '       \"      <td>0</td>\\\\n\",\\n',\n",
       " '       \"      <td>0</td>\\\\n\",\\n',\n",
       " '       \"      <td>373450</td>\\\\n\",\\n',\n",
       " '       \"      <td>8.0500</td>\\\\n\",\\n',\n",
       " '       \"      <td>NaN</td>\\\\n\",\\n',\n",
       " '       \"      <td>S</td>\\\\n\",\\n',\n",
       " '       \"    </tr>\\\\n\",\\n',\n",
       " '       \"  </tbody>\\\\n\",\\n',\n",
       " '       \"</table>\\\\n\",\\n',\n",
       " '       \"</div>\"\\n',\n",
       " '      ],\\n',\n",
       " '      \"text/plain\": [\\n',\n",
       " '       \"   PassengerId  Survived  Pclass  \\\\\\\\\\\\n\",\\n',\n",
       " '       \"0            1         0       3   \\\\n\",\\n',\n",
       " '       \"1            2         1       1   \\\\n\",\\n',\n",
       " '       \"2            3         1       3   \\\\n\",\\n',\n",
       " '       \"3            4         1       1   \\\\n\",\\n',\n",
       " '       \"4            5         0       3   \\\\n\",\\n',\n",
       " '       \"\\\\n\",\\n',\n",
       " '       \"                                                Name     Sex   Age  SibSp  \\\\\\\\\\\\n\",\\n',\n",
       " '       \"0                            Braund, Mr. Owen Harris    male  22.0      1   \\\\n\",\\n',\n",
       " '       \"1  Cumings, Mrs. John Bradley (Florence Briggs Th...  female  38.0      1   \\\\n\",\\n',\n",
       " '       \"2                             Heikkinen, Miss. Laina  female  26.0      0   \\\\n\",\\n',\n",
       " '       \"3       Futrelle, Mrs. Jacques Heath (Lily May Peel)  female  35.0      1   \\\\n\",\\n',\n",
       " '       \"4                           Allen, Mr. William Henry    male  35.0      0   \\\\n\",\\n',\n",
       " '       \"\\\\n\",\\n',\n",
       " '       \"   Parch            Ticket     Fare Cabin Embarked  \\\\n\",\\n',\n",
       " '       \"0      0         A/5 21171   7.2500   NaN        S  \\\\n\",\\n',\n",
       " '       \"1      0          PC 17599  71.2833   C85        C  \\\\n\",\\n',\n",
       " '       \"2      0  STON/O2. 3101282   7.9250   NaN        S  \\\\n\",\\n',\n",
       " '       \"3      0            113803  53.1000  C123        S  \\\\n\",\\n',\n",
       " '       \"4      0            373450   8.0500   NaN        S  \"\\n',\n",
       " '      ]\\n',\n",
       " '     },\\n',\n",
       " '     \"execution_count\": 37,\\n',\n",
       " '     \"metadata\": {},\\n',\n",
       " '     \"output_type\": \"execute_result\"\\n',\n",
       " '    }\\n',\n",
       " '   ],\\n',\n",
       " '   \"source\": [\\n',\n",
       " '    \"content.head()\"\\n',\n",
       " '   ]\\n',\n",
       " '  },\\n',\n",
       " '  {\\n',\n",
       " '   \"cell_type\": \"code\",\\n',\n",
       " '   \"execution_count\": 39,\\n',\n",
       " '   \"metadata\": {},\\n',\n",
       " '   \"outputs\": [],\\n',\n",
       " '   \"source\": [\\n',\n",
       " '    \"content = content.dropna()\"\\n',\n",
       " '   ]\\n',\n",
       " '  },\\n',\n",
       " '  {\\n',\n",
       " '   \"cell_type\": \"code\",\\n',\n",
       " '   \"execution_count\": 42,\\n',\n",
       " '   \"metadata\": {},\\n',\n",
       " '   \"outputs\": [],\\n',\n",
       " '   \"source\": [\\n',\n",
       " '    \"fares = content[\\'Fare\\'].tolist()\"\\n',\n",
       " '   ]\\n',\n",
       " '  },\\n',\n",
       " '  {\\n',\n",
       " '   \"cell_type\": \"code\",\\n',\n",
       " '   \"execution_count\": 43,\\n',\n",
       " '   \"metadata\": {},\\n',\n",
       " '   \"outputs\": [],\\n',\n",
       " '   \"source\": [\\n',\n",
       " '    \"ages = content[\\'Age\\'].tolist()\"\\n',\n",
       " '   ]\\n',\n",
       " '  },\\n',\n",
       " '  {\\n',\n",
       " '   \"cell_type\": \"code\",\\n',\n",
       " '   \"execution_count\": 44,\\n',\n",
       " '   \"metadata\": {},\\n',\n",
       " '   \"outputs\": [],\\n',\n",
       " '   \"source\": [\\n',\n",
       " '    \"import matplotlib.pyplot as plt\"\\n',\n",
       " '   ]\\n',\n",
       " '  },\\n',\n",
       " '  {\\n',\n",
       " '   \"cell_type\": \"code\",\\n',\n",
       " '   \"execution_count\": 45,\\n',\n",
       " '   \"metadata\": {},\\n',\n",
       " '   \"outputs\": [],\\n',\n",
       " '   \"source\": [\\n',\n",
       " '    \"%matplotlib inline\"\\n',\n",
       " '   ]\\n',\n",
       " '  },\\n',\n",
       " '  {\\n',\n",
       " '   \"cell_type\": \"code\",\\n',\n",
       " '   \"execution_count\": 46,\\n',\n",
       " '   \"metadata\": {},\\n',\n",
       " '   \"outputs\": [\\n',\n",
       " '    {\\n',\n",
       " '     \"data\": {\\n',\n",
       " '      \"text/plain\": [\\n',\n",
       " '       \"<matplotlib.collections.PathCollection at 0x131ff1ef0>\"\\n',\n",
       " '      ]\\n',\n",
       " '     },\\n',\n",
       " '     \"execution_count\": 46,\\n',\n",
       " '     \"metadata\": {},\\n',\n",
       " '     \"output_type\": \"execute_result\"\\n',\n",
       " '    },\\n',\n",
       " '    {\\n',\n",
       " '     \"data\": {\\n',\n",
       " '      \"image/png\": \"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\\\\n\",\\n',\n",
       " '      \"text/plain\": [\\n',\n",
       " '       \"<Figure size 432x288 with 1 Axes>\"\\n',\n",
       " '      ]\\n',\n",
       " '     },\\n',\n",
       " '     \"metadata\": {\\n',\n",
       " '      \"needs_background\": \"light\"\\n',\n",
       " '     },\\n',\n",
       " '     \"output_type\": \"display_data\"\\n',\n",
       " '    }\\n',\n",
       " '   ],\\n',\n",
       " '   \"source\": [\\n',\n",
       " '    \"plot.scatter(ages,fares)\"\\n',\n",
       " '   ]\\n',\n",
       " '  },\\n',\n",
       " '  {\\n',\n",
       " '   \"cell_type\": \"code\",\\n',\n",
       " '   \"execution_count\": 48,\\n',\n",
       " '   \"metadata\": {},\\n',\n",
       " '   \"outputs\": [],\\n',\n",
       " '   \"source\": [\\n',\n",
       " '    \"age_with_fares = content[(content[\\'Age\\']>22)&(content[\\'Fare\\']<400)&(content[\\'Fare\\']>130)]\"\\n',\n",
       " '   ]\\n',\n",
       " '  },\\n',\n",
       " '  {\\n',\n",
       " '   \"cell_type\": \"code\",\\n',\n",
       " '   \"execution_count\": 49,\\n',\n",
       " '   \"metadata\": {},\\n',\n",
       " '   \"outputs\": [],\\n',\n",
       " '   \"source\": [\\n',\n",
       " '    \"sub_fare = age_with_fares[\\'Fare\\'].tolist()\"\\n',\n",
       " '   ]\\n',\n",
       " '  },\\n',\n",
       " '  {\\n',\n",
       " '   \"cell_type\": \"code\",\\n',\n",
       " '   \"execution_count\": 50,\\n',\n",
       " '   \"metadata\": {},\\n',\n",
       " '   \"outputs\": [],\\n',\n",
       " '   \"source\": [\\n',\n",
       " '    \"sub_age = age_with_fares[\\'Age\\'].tolist()\"\\n',\n",
       " '   ]\\n',\n",
       " '  },\\n',\n",
       " '  {\\n',\n",
       " '   \"cell_type\": \"code\",\\n',\n",
       " '   \"execution_count\": 51,\\n',\n",
       " '   \"metadata\": {},\\n',\n",
       " '   \"outputs\": [\\n',\n",
       " '    {\\n',\n",
       " '     \"data\": {\\n',\n",
       " '      \"text/plain\": [\\n',\n",
       " '       \"<matplotlib.collections.PathCollection at 0x1334fd780>\"\\n',\n",
       " '      ]\\n',\n",
       " '     },\\n',\n",
       " '     \"execution_count\": 51,\\n',\n",
       " '     \"metadata\": {},\\n',\n",
       " '     \"output_type\": \"execute_result\"\\n',\n",
       " '    },\\n',\n",
       " '    {\\n',\n",
       " '     \"data\": {\\n',\n",
       " '      \"image/png\": \"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\\\\n\",\\n',\n",
       " '      \"text/plain\": [\\n',\n",
       " '       \"<Figure size 432x288 with 1 Axes>\"\\n',\n",
       " '      ]\\n',\n",
       " '     },\\n',\n",
       " '     \"metadata\": {\\n',\n",
       " '      \"needs_background\": \"light\"\\n',\n",
       " '     },\\n',\n",
       " '     \"output_type\": \"display_data\"\\n',\n",
       " '    }\\n',\n",
       " '   ],\\n',\n",
       " '   \"source\": [\\n',\n",
       " '    \"plt.scatter(sub_age,sub_fare)\"\\n',\n",
       " '   ]\\n',\n",
       " '  },\\n',\n",
       " '  {\\n',\n",
       " '   \"cell_type\": \"code\",\\n',\n",
       " '   \"execution_count\": 17,\\n',\n",
       " '   \"metadata\": {},\\n',\n",
       " '   \"outputs\": [],\\n',\n",
       " '   \"source\": [\\n',\n",
       " '    \"coordination_source = \\\\\"\\\\\"\\\\\"\\\\n\",\\n',\n",
       " '    \"{name:\\'lanzhou\\', geoCoord:[103.73, 36.03]},\\\\n\",\\n',\n",
       " '    \"{name:\\'jiayuguan\\', geoCoord:[98.17, 39.47]},\\\\n\",\\n',\n",
       " '    \"{name:\\'xining\\', geoCoord:[101.74, 36.56]},\\\\n\",\\n',\n",
       " '    \"{name:\\'chengdu\\', geoCoord:[104.06, 30.67]},\\\\n\",\\n',\n",
       " '    \"{name:\\'shijiazhuang\\', geoCoord:[114.48, 38.03]},\\\\n\",\\n',\n",
       " '    \"{name:\\'lasa\\', geoCoord:[102.73, 25.04]},\\\\n\",\\n',\n",
       " '    \"{name:\\'guiyang\\', geoCoord:[106.71, 26.57]},\\\\n\",\\n',\n",
       " '    \"{name:\\'wuhan\\', geoCoord:[114.31, 30.52]},\\\\n\",\\n',\n",
       " '    \"{name:\\'zhengzhou\\', geoCoord:[113.65, 34.76]},\\\\n\",\\n',\n",
       " '    \"{name:\\'jinan\\', geoCoord:[117, 36.65]},\\\\n\",\\n',\n",
       " '    \"{name:\\'nanjing\\', geoCoord:[118.78, 32.04]},\\\\n\",\\n',\n",
       " '    \"{name:\\'hefei\\', geoCoord:[117.27, 31.86]},\\\\n\",\\n',\n",
       " '    \"{name:\\'hangzhou\\', geoCoord:[120.19, 30.26]},\\\\n\",\\n',\n",
       " '    \"{name:\\'nanchang\\', geoCoord:[115.89, 28.68]},\\\\n\",\\n',\n",
       " '    \"{name:\\'fuzhou\\', geoCoord:[119.3, 26.08]},\\\\n\",\\n',\n",
       " '    \"{name:\\'guangzhou\\', geoCoord:[113.23, 23.16]},\\\\n\",\\n',\n",
       " '    \"{name:\\'changsha\\', geoCoord:[113, 28.21]},\\\\n\",\\n',\n",
       " '    \"//{name:\\'海口\\', geoCoord:[110.35, 20.02]},\\\\n\",\\n',\n",
       " '    \"{name:\\'shengyang\\', geoCoord:[123.38, 41.8]},\\\\n\",\\n',\n",
       " '    \"{name:\\'changchun\\', geoCoord:[125.35, 43.88]},\\\\n\",\\n',\n",
       " '    \"{name:\\'haorbing\\', geoCoord:[126.63, 45.75]},\\\\n\",\\n',\n",
       " '    \"{name:\\'taiyuan\\', geoCoord:[112.53, 37.87]},\\\\n\",\\n',\n",
       " '    \"{name:\\'xian\\', geoCoord:[108.95, 34.27]},\\\\n\",\\n',\n",
       " '    \"//{name:\\'台湾\\', geoCoord:[121.30, 25.03]},\\\\n\",\\n',\n",
       " '    \"{name:\\'beijing\\', geoCoord:[116.46, 39.92]},\\\\n\",\\n',\n",
       " '    \"{name:\\'shanghai\\', geoCoord:[121.48, 31.22]},\\\\n\",\\n',\n",
       " '    \"{name:\\'chongqing\\', geoCoord:[106.54, 29.59]},\\\\n\",\\n',\n",
       " '    \"{name:\\'tianjing\\', geoCoord:[117.2, 39.13]},\\\\n\",\\n',\n",
       " '    \"{name:\\'huhehaote\\', geoCoord:[111.65, 40.82]},\\\\n\",\\n',\n",
       " '    \"{name:\\'nanning\\', geoCoord:[108.33, 22.84]},\\\\n\",\\n',\n",
       " '    \"//{name:\\'西藏\\', geoCoord:[91.11, 29.97]},\\\\n\",\\n',\n",
       " '    \"{name:\\'yinchuan\\', geoCoord:[106.27, 38.47]},\\\\n\",\\n',\n",
       " '    \"{name:\\'wulumuqi\\', geoCoord:[87.68, 43.77]},\\\\n\",\\n',\n",
       " '    \"{name:\\'xiangang\\', geoCoord:[114.17, 22.28]},\\\\n\",\\n',\n",
       " '    \"{name:\\'aomen\\', geoCoord:[113.54, 22.19]}\\\\n\",\\n',\n",
       " '    \"\\\\\"\\\\\"\\\\\"\"\\n',\n",
       " '   ]\\n',\n",
       " '  },\\n',\n",
       " '  {\\n',\n",
       " '   \"cell_type\": \"code\",\\n',\n",
       " '   \"execution_count\": 29,\\n',\n",
       " '   \"metadata\": {},\\n',\n",
       " '   \"outputs\": [],\\n',\n",
       " '   \"source\": [\\n',\n",
       " '    \"coordination_source = \\\\\"\\\\\"\\\\\"\\\\n\",\\n',\n",
       " '    \"{name:\\'兰州\\', geoCoord:[103.73, 36.03]},\\\\n\",\\n',\n",
       " '    \"{name:\\'嘉峪关\\', geoCoord:[98.17, 39.47]},\\\\n\",\\n',\n",
       " '    \"{name:\\'西宁\\', geoCoord:[101.74, 36.56]},\\\\n\",\\n',\n",
       " '    \"{name:\\'成都\\', geoCoord:[104.06, 30.67]},\\\\n\",\\n',\n",
       " '    \"{name:\\'石家庄\\', geoCoord:[114.48, 38.03]},\\\\n\",\\n',\n",
       " '    \"{name:\\'拉萨\\', geoCoord:[102.73, 25.04]},\\\\n\",\\n',\n",
       " '    \"{name:\\'贵阳\\', geoCoord:[106.71, 26.57]},\\\\n\",\\n',\n",
       " '    \"{name:\\'武汉\\', geoCoord:[114.31, 30.52]},\\\\n\",\\n',\n",
       " '    \"{name:\\'郑州\\', geoCoord:[113.65, 34.76]},\\\\n\",\\n',\n",
       " '    \"{name:\\'济南\\', geoCoord:[117, 36.65]},\\\\n\",\\n',\n",
       " '    \"{name:\\'南京\\', geoCoord:[118.78, 32.04]},\\\\n\",\\n',\n",
       " '    \"{name:\\'合肥\\', geoCoord:[117.27, 31.86]},\\\\n\",\\n',\n",
       " '    \"{name:\\'杭州\\', geoCoord:[120.19, 30.26]},\\\\n\",\\n',\n",
       " '    \"{name:\\'南昌\\', geoCoord:[115.89, 28.68]},\\\\n\",\\n',\n",
       " '    \"{name:\\'福州\\', geoCoord:[119.3, 26.08]},\\\\n\",\\n',\n",
       " '    \"{name:\\'广州\\', geoCoord:[113.23, 23.16]},\\\\n\",\\n',\n",
       " '    \"{name:\\'长沙\\', geoCoord:[113, 28.21]},\\\\n\",\\n',\n",
       " '    \"//{name:\\'海口\\', geoCoord:[110.35, 20.02]},\\\\n\",\\n',\n",
       " '    \"{name:\\'沈阳\\', geoCoord:[123.38, 41.8]},\\\\n\",\\n',\n",
       " '    \"{name:\\'长春\\', geoCoord:[125.35, 43.88]},\\\\n\",\\n',\n",
       " '    \"{name:\\'哈尔滨\\', geoCoord:[126.63, 45.75]},\\\\n\",\\n',\n",
       " '    \"{name:\\'太原\\', geoCoord:[112.53, 37.87]},\\\\n\",\\n',\n",
       " '    \"{name:\\'西安\\', geoCoord:[108.95, 34.27]},\\\\n\",\\n',\n",
       " '    \"//{name:\\'台湾\\', geoCoord:[121.30, 25.03]},\\\\n\",\\n',\n",
       " '    \"{name:\\'北京\\', geoCoord:[116.46, 39.92]},\\\\n\",\\n',\n",
       " '    \"{name:\\'上海\\', geoCoord:[121.48, 31.22]},\\\\n\",\\n',\n",
       " '    \"{name:\\'重庆\\', geoCoord:[106.54, 29.59]},\\\\n\",\\n',\n",
       " '    \"{name:\\'天津\\', geoCoord:[117.2, 39.13]},\\\\n\",\\n',\n",
       " '    \"{name:\\'呼和浩特\\', geoCoord:[111.65, 40.82]},\\\\n\",\\n',\n",
       " '    \"{name:\\'南宁\\', geoCoord:[108.33, 22.84]},\\\\n\",\\n',\n",
       " '    \"//{name:\\'西藏\\', geoCoord:[91.11, 29.97]},\\\\n\",\\n',\n",
       " '    \"{name:\\'银川\\', geoCoord:[106.27, 38.47]},\\\\n\",\\n',\n",
       " '    \"{name:\\'乌鲁木齐\\', geoCoord:[87.68, 43.77]},\\\\n\",\\n',\n",
       " '    \"{name:\\'香港\\', geoCoord:[114.17, 22.28]},\\\\n\",\\n',\n",
       " '    \"{name:\\'澳门\\', geoCoord:[113.54, 22.19]}\\\\n\",\\n',\n",
       " '    \"\\\\\"\\\\\"\\\\\"\"\\n',\n",
       " '   ]\\n',\n",
       " '  },\\n',\n",
       " '  {\\n',\n",
       " '   \"cell_type\": \"code\",\\n',\n",
       " '   \"execution_count\": 39,\\n',\n",
       " '   \"metadata\": {},\\n',\n",
       " '   \"outputs\": [],\\n',\n",
       " '   \"source\": [\\n',\n",
       " '    \"import matplotlib\\\\n\",\\n',\n",
       " '    \"import  icecream as ic\"\\n',\n",
       " '   ]\\n',\n",
       " '  },\\n',\n",
       " '  {\\n',\n",
       " '   \"cell_type\": \"code\",\\n',\n",
       " '   \"execution_count\": 31,\\n',\n",
       " '   \"metadata\": {},\\n',\n",
       " '   \"outputs\": [\\n',\n",
       " '    {\\n',\n",
       " '     \"name\": \"stdout\",\\n',\n",
       " '     \"output_type\": \"stream\",\\n',\n",
       " '     \"text\": [\\n',\n",
       " '      \"[\\'/Users/tom/anaconda3/lib/python3.7/site-packages/matplotlib\\']\\\\n\"\\n',\n",
       " '     ]\\n',\n",
       " '    }\\n',\n",
       " '   ],\\n',\n",
       " '   \"source\": [\\n',\n",
       " '    \"print(matplotlib.__path__)\"\\n',\n",
       " '   ]\\n',\n",
       " '  },\\n',\n",
       " '  {\\n',\n",
       " '   \"cell_type\": \"code\",\\n',\n",
       " '   \"execution_count\": 59,\\n',\n",
       " '   \"metadata\": {},\\n',\n",
       " '   \"outputs\": [],\\n',\n",
       " '   \"source\": [\\n',\n",
       " '    \"import re\\\\n\",\\n',\n",
       " '    \"city_location= {}\"\\n',\n",
       " '   ]\\n',\n",
       " '  },\\n',\n",
       " '  {\\n',\n",
       " '   \"cell_type\": \"code\",\\n',\n",
       " '   \"execution_count\": 60,\\n',\n",
       " '   \"metadata\": {},\\n',\n",
       " '   \"outputs\": [\\n',\n",
       " '    {\\n',\n",
       " '     \"name\": \"stdout\",\\n',\n",
       " '     \"output_type\": \"stream\",\\n',\n",
       " '     \"text\": [\\n',\n",
       " '      \"兰州 (103.73, 36.03)\\\\n\",\\n',\n",
       " '      \"嘉峪关 (98.17, 39.47)\\\\n\",\\n',\n",
       " '      \"西宁 (101.74, 36.56)\\\\n\",\\n',\n",
       " '      \"成都 (104.06, 30.67)\\\\n\",\\n',\n",
       " '      \"石家庄 (114.48, 38.03)\\\\n\",\\n',\n",
       " '      \"拉萨 (102.73, 25.04)\\\\n\",\\n',\n",
       " '      \"贵阳 (106.71, 26.57)\\\\n\",\\n',\n",
       " '      \"武汉 (114.31, 30.52)\\\\n\",\\n',\n",
       " '      \"郑州 (113.65, 34.76)\\\\n\",\\n',\n",
       " '      \"济南 (117.0, 36.65)\\\\n\",\\n',\n",
       " '      \"南京 (118.78, 32.04)\\\\n\",\\n',\n",
       " '      \"合肥 (117.27, 31.86)\\\\n\",\\n',\n",
       " '      \"杭州 (120.19, 30.26)\\\\n\",\\n',\n",
       " '      \"南昌 (115.89, 28.68)\\\\n\",\\n',\n",
       " '      \"福州 (119.3, 26.08)\\\\n\",\\n',\n",
       " '      \"广州 (113.23, 23.16)\\\\n\",\\n',\n",
       " '      \"长沙 (113.0, 28.21)\\\\n\",\\n',\n",
       " '      \"沈阳 (123.38, 41.8)\\\\n\",\\n',\n",
       " '      \"长春 (125.35, 43.88)\\\\n\",\\n',\n",
       " '      \"哈尔滨 (126.63, 45.75)\\\\n\",\\n',\n",
       " '      \"太原 (112.53, 37.87)\\\\n\",\\n',\n",
       " '      \"西安 (108.95, 34.27)\\\\n\",\\n',\n",
       " '      \"北京 (116.46, 39.92)\\\\n\",\\n',\n",
       " '      \"上海 (121.48, 31.22)\\\\n\",\\n',\n",
       " '      \"重庆 (106.54, 29.59)\\\\n\",\\n',\n",
       " '      \"天津 (117.2, 39.13)\\\\n\",\\n',\n",
       " '      \"呼和浩特 (111.65, 40.82)\\\\n\",\\n',\n",
       " '      \"南宁 (108.33, 22.84)\\\\n\",\\n',\n",
       " '      \"银川 (106.27, 38.47)\\\\n\",\\n',\n",
       " '      \"乌鲁木齐 (87.68, 43.77)\\\\n\",\\n',\n",
       " '      \"香港 (114.17, 22.28)\\\\n\",\\n',\n",
       " '      \"澳门 (113.54, 22.19)\\\\n\"\\n',\n",
       " '     ]\\n',\n",
       " '    }\\n',\n",
       " '   ],\\n',\n",
       " '   \"source\": [\\n',\n",
       " '    \"for line in coordination_source.split(\\'\\\\\\\\n\\'):\\\\n\",\\n',\n",
       " '    \"    if line.startswith(\\\\\"//\\\\\"): continue\\\\n\",\\n',\n",
       " '    \"    if line.strip() == \\'\\':continue\\\\n\",\\n',\n",
       " '    \"    city = re.findall(\\\\\"name:\\'(\\\\\\\\w+)\\'\\\\\",line)[0]\\\\n\",\\n',\n",
       " '    \"    x_y = re.findall(\\\\\"Coord:\\\\\\\\[(\\\\\\\\d+.\\\\\\\\d+),\\\\\\\\s(\\\\\\\\d+.\\\\\\\\d+)\\\\\\\\]\\\\\",line)[0]\\\\n\",\\n',\n",
       " '    \"    x_y = tuple(map(float,x_y))\\\\n\",\\n',\n",
       " '    \"    city_location[city] = x_y\\\\n\",\\n',\n",
       " '    \"    print(city,x_y)\\\\n\",\\n',\n",
       " '    \"    \"\\n',\n",
       " '   ]\\n',\n",
       " '  },\\n',\n",
       " '  {\\n',\n",
       " '   \"cell_type\": \"code\",\\n',\n",
       " '   \"execution_count\": 67,\\n',\n",
       " '   \"metadata\": {},\\n',\n",
       " '   \"outputs\": [],\\n',\n",
       " '   \"source\": [\\n',\n",
       " '    \"import math\\\\n\",\\n',\n",
       " '    \"def geo_distance(origin, destination):\\\\n\",\\n',\n",
       " '    \"    \\\\\"\\\\\"\\\\\"\\\\n\",\\n',\n",
       " '    \"    Calculate the Haversine distance.\\\\n\",\\n',\n",
       " '    \"\\\\n\",\\n',\n",
       " '    \"    Parameters\\\\n\",\\n',\n",
       " '    \"    ----------\\\\n\",\\n',\n",
       " '    \"    origin : tuple of float\\\\n\",\\n',\n",
       " '    \"        (lat, long)\\\\n\",\\n',\n",
       " '    \"    destination : tuple of float\\\\n\",\\n',\n",
       " '    \"        (lat, long)\\\\n\",\\n',\n",
       " '    \"\\\\n\",\\n',\n",
       " '    \"    Returns\\\\n\",\\n',\n",
       " '    \"    -------\\\\n\",\\n',\n",
       " '    \"    distance_in_km : float\\\\n\",\\n',\n",
       " '    \"\\\\n\",\\n',\n",
       " '    \"    Examples\\\\n\",\\n',\n",
       " '    \"    --------\\\\n\",\\n',\n",
       " '    \"    >>> origin = (48.1372, 11.5756)  # Munich\\\\n\",\\n',\n",
       " '    \"    >>> destination = (52.5186, 13.4083)  # Berlin\\\\n\",\\n',\n",
       " '    \"    >>> round(distance(origin, destination), 1)\\\\n\",\\n',\n",
       " '    \"    504.2\\\\n\",\\n',\n",
       " '    \"    \\\\\"\\\\\"\\\\\"\\\\n\",\\n',\n",
       " '    \"    lat1, lon1 = origin\\\\n\",\\n',\n",
       " '    \"    lat2, lon2 = destination\\\\n\",\\n',\n",
       " '    \"    radius = 6371  # km\\\\n\",\\n',\n",
       " '    \"\\\\n\",\\n',\n",
       " '    \"    dlat = math.radians(lat2 - lat1)\\\\n\",\\n',\n",
       " '    \"    dlon = math.radians(lon2 - lon1)\\\\n\",\\n',\n",
       " '    \"    a = (math.sin(dlat / 2) * math.sin(dlat / 2) +\\\\n\",\\n',\n",
       " '    \"         math.cos(math.radians(lat1)) * math.cos(math.radians(lat2)) *\\\\n\",\\n',\n",
       " '    \"         math.sin(dlon / 2) * math.sin(dlon / 2))\\\\n\",\\n',\n",
       " '    \"    c = 2 * math.atan2(math.sqrt(a), math.sqrt(1 - a))\\\\n\",\\n',\n",
       " '    \"    d = radius * c\\\\n\",\\n',\n",
       " '    \"\\\\n\",\\n',\n",
       " '    \"    return d\"\\n',\n",
       " '   ]\\n',\n",
       " '  },\\n',\n",
       " '  {\\n',\n",
       " '   \"cell_type\": \"code\",\\n',\n",
       " '   \"execution_count\": 68,\\n',\n",
       " '   \"metadata\": {},\\n',\n",
       " '   \"outputs\": [],\\n',\n",
       " '   \"source\": [\\n',\n",
       " '    \"def get_city_distance(city1,city2):\\\\n\",\\n',\n",
       " '    \"    return geo_distance(city_location[city1], city_location[city2])\"\\n',\n",
       " '   ]\\n',\n",
       " '  },\\n',\n",
       " '  {\\n',\n",
       " '   \"cell_type\": \"code\",\\n',\n",
       " '   \"execution_count\": 69,\\n',\n",
       " '   \"metadata\": {},\\n',\n",
       " '   \"outputs\": [\\n',\n",
       " '    {\\n',\n",
       " '     \"data\": {\\n',\n",
       " ...]"
      ]
     },
     "execution_count": 6,
     "metadata": {},
     "output_type": "execute_result"
    }
   ],
   "source": [
    "f.readlines()"
   ]
  },
  {
   "cell_type": "code",
   "execution_count": 7,
   "metadata": {},
   "outputs": [],
   "source": [
    "for line in f.readlines():\n",
    "    print(line)"
   ]
  },
  {
   "cell_type": "code",
   "execution_count": 8,
   "metadata": {},
   "outputs": [],
   "source": [
    "import time"
   ]
  },
  {
   "cell_type": "code",
   "execution_count": 9,
   "metadata": {},
   "outputs": [],
   "source": [
    "def func(i):\n",
    "    time.sleep(0.2)\n",
    "    return i"
   ]
  },
  {
   "cell_type": "code",
   "execution_count": 10,
   "metadata": {},
   "outputs": [],
   "source": [
    "def gene_func():\n",
    "    yield 1\n",
    "    yield 2\n",
    "    yield 3 \n"
   ]
  },
  {
   "cell_type": "code",
   "execution_count": 11,
   "metadata": {},
   "outputs": [],
   "source": [
    "g = gene_func()"
   ]
  },
  {
   "cell_type": "code",
   "execution_count": 12,
   "metadata": {},
   "outputs": [
    {
     "data": {
      "text/plain": [
       "1"
      ]
     },
     "execution_count": 12,
     "metadata": {},
     "output_type": "execute_result"
    }
   ],
   "source": [
    "next(g)"
   ]
  },
  {
   "cell_type": "code",
   "execution_count": 13,
   "metadata": {},
   "outputs": [
    {
     "data": {
      "text/plain": [
       "2"
      ]
     },
     "execution_count": 13,
     "metadata": {},
     "output_type": "execute_result"
    }
   ],
   "source": [
    "next(g)"
   ]
  },
  {
   "cell_type": "code",
   "execution_count": 14,
   "metadata": {},
   "outputs": [],
   "source": [
    "def  loop(n):\n",
    "    result = []\n",
    "    for i in range(n):\n",
    "        r = func(i)\n",
    "        result.append(r)\n",
    "    return result"
   ]
  },
  {
   "cell_type": "code",
   "execution_count": 15,
   "metadata": {},
   "outputs": [
    {
     "data": {
      "text/plain": [
       "[0, 1, 2, 3, 4, 5, 6, 7, 8, 9]"
      ]
     },
     "execution_count": 15,
     "metadata": {},
     "output_type": "execute_result"
    }
   ],
   "source": [
    "loop(10)"
   ]
  },
  {
   "cell_type": "code",
   "execution_count": 16,
   "metadata": {},
   "outputs": [],
   "source": [
    "def loop_with_gene(n):\n",
    "    for i in range (n):\n",
    "        r = func(i)\n",
    "        yield r"
   ]
  },
  {
   "cell_type": "code",
   "execution_count": 17,
   "metadata": {},
   "outputs": [],
   "source": [
    "G  = loop_with_gene(10)"
   ]
  },
  {
   "cell_type": "code",
   "execution_count": 18,
   "metadata": {},
   "outputs": [
    {
     "data": {
      "text/plain": [
       "0"
      ]
     },
     "execution_count": 18,
     "metadata": {},
     "output_type": "execute_result"
    }
   ],
   "source": [
    "next(G)"
   ]
  },
  {
   "cell_type": "code",
   "execution_count": 19,
   "metadata": {},
   "outputs": [
    {
     "data": {
      "text/plain": [
       "1"
      ]
     },
     "execution_count": 19,
     "metadata": {},
     "output_type": "execute_result"
    }
   ],
   "source": [
    "next(G)"
   ]
  },
  {
   "cell_type": "code",
   "execution_count": 20,
   "metadata": {},
   "outputs": [
    {
     "name": "stdout",
     "output_type": "stream",
     "text": [
      "0\n",
      "1\n",
      "2\n",
      "3\n",
      "4\n",
      "5\n",
      "6\n",
      "7\n",
      "8\n",
      "9\n"
     ]
    }
   ],
   "source": [
    "for i in loop(10):\n",
    "    print (i)"
   ]
  },
  {
   "cell_type": "code",
   "execution_count": 21,
   "metadata": {},
   "outputs": [],
   "source": [
    "import random"
   ]
  },
  {
   "cell_type": "code",
   "execution_count": 22,
   "metadata": {},
   "outputs": [
    {
     "data": {
      "text/plain": [
       "0.8349824847783609"
      ]
     },
     "execution_count": 22,
     "metadata": {},
     "output_type": "execute_result"
    }
   ],
   "source": [
    "random.random()*2-1"
   ]
  },
  {
   "cell_type": "code",
   "execution_count": 23,
   "metadata": {},
   "outputs": [],
   "source": [
    "import pandas as pd "
   ]
  },
  {
   "cell_type": "code",
   "execution_count": 24,
   "metadata": {},
   "outputs": [],
   "source": [
    "titantic_data = '/Users/Tom/Desktop/data/train.csv'"
   ]
  },
  {
   "cell_type": "code",
   "execution_count": 25,
   "metadata": {},
   "outputs": [],
   "source": [
    "content = pd.read_csv(titantic_data)"
   ]
  },
  {
   "cell_type": "code",
   "execution_count": 26,
   "metadata": {},
   "outputs": [
    {
     "data": {
      "text/html": [
       "<div>\n",
       "<style scoped>\n",
       "    .dataframe tbody tr th:only-of-type {\n",
       "        vertical-align: middle;\n",
       "    }\n",
       "\n",
       "    .dataframe tbody tr th {\n",
       "        vertical-align: top;\n",
       "    }\n",
       "\n",
       "    .dataframe thead th {\n",
       "        text-align: right;\n",
       "    }\n",
       "</style>\n",
       "<table border=\"1\" class=\"dataframe\">\n",
       "  <thead>\n",
       "    <tr style=\"text-align: right;\">\n",
       "      <th></th>\n",
       "      <th>PassengerId</th>\n",
       "      <th>Survived</th>\n",
       "      <th>Pclass</th>\n",
       "      <th>Name</th>\n",
       "      <th>Sex</th>\n",
       "      <th>Age</th>\n",
       "      <th>SibSp</th>\n",
       "      <th>Parch</th>\n",
       "      <th>Ticket</th>\n",
       "      <th>Fare</th>\n",
       "      <th>Cabin</th>\n",
       "      <th>Embarked</th>\n",
       "    </tr>\n",
       "  </thead>\n",
       "  <tbody>\n",
       "    <tr>\n",
       "      <th>0</th>\n",
       "      <td>1</td>\n",
       "      <td>0</td>\n",
       "      <td>3</td>\n",
       "      <td>Braund, Mr. Owen Harris</td>\n",
       "      <td>male</td>\n",
       "      <td>22.0</td>\n",
       "      <td>1</td>\n",
       "      <td>0</td>\n",
       "      <td>A/5 21171</td>\n",
       "      <td>7.2500</td>\n",
       "      <td>NaN</td>\n",
       "      <td>S</td>\n",
       "    </tr>\n",
       "    <tr>\n",
       "      <th>1</th>\n",
       "      <td>2</td>\n",
       "      <td>1</td>\n",
       "      <td>1</td>\n",
       "      <td>Cumings, Mrs. John Bradley (Florence Briggs Th...</td>\n",
       "      <td>female</td>\n",
       "      <td>38.0</td>\n",
       "      <td>1</td>\n",
       "      <td>0</td>\n",
       "      <td>PC 17599</td>\n",
       "      <td>71.2833</td>\n",
       "      <td>C85</td>\n",
       "      <td>C</td>\n",
       "    </tr>\n",
       "    <tr>\n",
       "      <th>2</th>\n",
       "      <td>3</td>\n",
       "      <td>1</td>\n",
       "      <td>3</td>\n",
       "      <td>Heikkinen, Miss. Laina</td>\n",
       "      <td>female</td>\n",
       "      <td>26.0</td>\n",
       "      <td>0</td>\n",
       "      <td>0</td>\n",
       "      <td>STON/O2. 3101282</td>\n",
       "      <td>7.9250</td>\n",
       "      <td>NaN</td>\n",
       "      <td>S</td>\n",
       "    </tr>\n",
       "    <tr>\n",
       "      <th>3</th>\n",
       "      <td>4</td>\n",
       "      <td>1</td>\n",
       "      <td>1</td>\n",
       "      <td>Futrelle, Mrs. Jacques Heath (Lily May Peel)</td>\n",
       "      <td>female</td>\n",
       "      <td>35.0</td>\n",
       "      <td>1</td>\n",
       "      <td>0</td>\n",
       "      <td>113803</td>\n",
       "      <td>53.1000</td>\n",
       "      <td>C123</td>\n",
       "      <td>S</td>\n",
       "    </tr>\n",
       "    <tr>\n",
       "      <th>4</th>\n",
       "      <td>5</td>\n",
       "      <td>0</td>\n",
       "      <td>3</td>\n",
       "      <td>Allen, Mr. William Henry</td>\n",
       "      <td>male</td>\n",
       "      <td>35.0</td>\n",
       "      <td>0</td>\n",
       "      <td>0</td>\n",
       "      <td>373450</td>\n",
       "      <td>8.0500</td>\n",
       "      <td>NaN</td>\n",
       "      <td>S</td>\n",
       "    </tr>\n",
       "  </tbody>\n",
       "</table>\n",
       "</div>"
      ],
      "text/plain": [
       "   PassengerId  Survived  Pclass  \\\n",
       "0            1         0       3   \n",
       "1            2         1       1   \n",
       "2            3         1       3   \n",
       "3            4         1       1   \n",
       "4            5         0       3   \n",
       "\n",
       "                                                Name     Sex   Age  SibSp  \\\n",
       "0                            Braund, Mr. Owen Harris    male  22.0      1   \n",
       "1  Cumings, Mrs. John Bradley (Florence Briggs Th...  female  38.0      1   \n",
       "2                             Heikkinen, Miss. Laina  female  26.0      0   \n",
       "3       Futrelle, Mrs. Jacques Heath (Lily May Peel)  female  35.0      1   \n",
       "4                           Allen, Mr. William Henry    male  35.0      0   \n",
       "\n",
       "   Parch            Ticket     Fare Cabin Embarked  \n",
       "0      0         A/5 21171   7.2500   NaN        S  \n",
       "1      0          PC 17599  71.2833   C85        C  \n",
       "2      0  STON/O2. 3101282   7.9250   NaN        S  \n",
       "3      0            113803  53.1000  C123        S  \n",
       "4      0            373450   8.0500   NaN        S  "
      ]
     },
     "execution_count": 26,
     "metadata": {},
     "output_type": "execute_result"
    }
   ],
   "source": [
    "content.head()"
   ]
  },
  {
   "cell_type": "code",
   "execution_count": 27,
   "metadata": {},
   "outputs": [],
   "source": [
    "content = content.dropna()"
   ]
  },
  {
   "cell_type": "code",
   "execution_count": 28,
   "metadata": {},
   "outputs": [],
   "source": [
    "fares = content['Fare'].tolist()"
   ]
  },
  {
   "cell_type": "code",
   "execution_count": 29,
   "metadata": {},
   "outputs": [],
   "source": [
    "ages = content['Age'].tolist()"
   ]
  },
  {
   "cell_type": "code",
   "execution_count": 30,
   "metadata": {},
   "outputs": [],
   "source": [
    "import matplotlib.pyplot as plt"
   ]
  },
  {
   "cell_type": "code",
   "execution_count": 31,
   "metadata": {},
   "outputs": [],
   "source": [
    "%matplotlib inline"
   ]
  },
  {
   "cell_type": "code",
   "execution_count": 32,
   "metadata": {},
   "outputs": [
    {
     "data": {
      "text/plain": [
       "<matplotlib.collections.PathCollection at 0x118334630>"
      ]
     },
     "execution_count": 32,
     "metadata": {},
     "output_type": "execute_result"
    },
    {
     "data": {
      "image/png": "[encoded data removed]",
      "text/plain": [
       "<Figure size 432x288 with 1 Axes>"
      ]
     },
     "metadata": {
      "needs_background": "light"
     },
     "output_type": "display_data"
    }
   ],
   "source": [
    "plot.scatter(ages,fares)"
   ]
  },
  {
   "cell_type": "code",
   "execution_count": 33,
   "metadata": {},
   "outputs": [],
   "source": [
    "age_with_fares = content[(content['Age']>22)&(content['Fare']<400)&(content['Fare']>130)]"
   ]
  },
  {
   "cell_type": "code",
   "execution_count": 34,
   "metadata": {},
   "outputs": [],
   "source": [
    "sub_fare = age_with_fares['Fare'].tolist()"
   ]
  },
  {
   "cell_type": "code",
   "execution_count": 35,
   "metadata": {},
   "outputs": [],
   "source": [
    "sub_age = age_with_fares['Age'].tolist()"
   ]
  },
  {
   "cell_type": "code",
   "execution_count": 36,
   "metadata": {},
   "outputs": [
    {
     "data": {
      "text/plain": [
       "<matplotlib.collections.PathCollection at 0x118419b38>"
      ]
     },
     "execution_count": 36,
     "metadata": {},
     "output_type": "execute_result"
    },
    {
     "data": {
      "image/png": "[encoded data removed]",
      "text/plain": [
       "<Figure size 432x288 with 1 Axes>"
      ]
     },
     "metadata": {
      "needs_background": "light"
     },
     "output_type": "display_data"
    }
   ],
   "source": [
    "plt.scatter(sub_age,sub_fare)"
   ]
  },
  {
   "cell_type": "code",
   "execution_count": 37,
   "metadata": {},
   "outputs": [],
   "source": [
    "coordination_source = \"\"\"\n",
    "{name:'lanzhou', geoCoord:[103.73, 36.03]},\n",
    "{name:'jiayuguan', geoCoord:[98.17, 39.47]},\n",
    "{name:'xining', geoCoord:[101.74, 36.56]},\n",
    "{name:'chengdu', geoCoord:[104.06, 30.67]},\n",
    "{name:'shijiazhuang', geoCoord:[114.48, 38.03]},\n",
    "{name:'lasa', geoCoord:[102.73, 25.04]},\n",
    "{name:'guiyang', geoCoord:[106.71, 26.57]},\n",
    "{name:'wuhan', geoCoord:[114.31, 30.52]},\n",
    "{name:'zhengzhou', geoCoord:[113.65, 34.76]},\n",
    "{name:'jinan', geoCoord:[117, 36.65]},\n",
    "{name:'nanjing', geoCoord:[118.78, 32.04]},\n",
    "{name:'hefei', geoCoord:[117.27, 31.86]},\n",
    "{name:'hangzhou', geoCoord:[120.19, 30.26]},\n",
    "{name:'nanchang', geoCoord:[115.89, 28.68]},\n",
    "{name:'fuzhou', geoCoord:[119.3, 26.08]},\n",
    "{name:'guangzhou', geoCoord:[113.23, 23.16]},\n",
    "{name:'changsha', geoCoord:[113, 28.21]},\n",
    "//{name:'海口', geoCoord:[110.35, 20.02]},\n",
    "{name:'shengyang', geoCoord:[123.38, 41.8]},\n",
    "{name:'changchun', geoCoord:[125.35, 43.88]},\n",
    "{name:'haorbing', geoCoord:[126.63, 45.75]},\n",
    "{name:'taiyuan', geoCoord:[112.53, 37.87]},\n",
    "{name:'xian', geoCoord:[108.95, 34.27]},\n",
    "//{name:'台湾', geoCoord:[121.30, 25.03]},\n",
    "{name:'beijing', geoCoord:[116.46, 39.92]},\n",
    "{name:'shanghai', geoCoord:[121.48, 31.22]},\n",
    "{name:'chongqing', geoCoord:[106.54, 29.59]},\n",
    "{name:'tianjing', geoCoord:[117.2, 39.13]},\n",
    "{name:'huhehaote', geoCoord:[111.65, 40.82]},\n",
    "{name:'nanning', geoCoord:[108.33, 22.84]},\n",
    "//{name:'西藏', geoCoord:[91.11, 29.97]},\n",
    "{name:'yinchuan', geoCoord:[106.27, 38.47]},\n",
    "{name:'wulumuqi', geoCoord:[87.68, 43.77]},\n",
    "{name:'xiangang', geoCoord:[114.17, 22.28]},\n",
    "{name:'aomen', geoCoord:[113.54, 22.19]}\n",
    "\"\"\""
   ]
  },
  {
   "cell_type": "code",
   "execution_count": 38,
   "metadata": {},
   "outputs": [],
   "source": [
    "coordination_source = \"\"\"\n",
    "{name:'兰州', geoCoord:[103.73, 36.03]},\n",
    "{name:'嘉峪关', geoCoord:[98.17, 39.47]},\n",
    "{name:'西宁', geoCoord:[101.74, 36.56]},\n",
    "{name:'成都', geoCoord:[104.06, 30.67]},\n",
    "{name:'石家庄', geoCoord:[114.48, 38.03]},\n",
    "{name:'拉萨', geoCoord:[102.73, 25.04]},\n",
    "{name:'贵阳', geoCoord:[106.71, 26.57]},\n",
    "{name:'武汉', geoCoord:[114.31, 30.52]},\n",
    "{name:'郑州', geoCoord:[113.65, 34.76]},\n",
    "{name:'济南', geoCoord:[117, 36.65]},\n",
    "{name:'南京', geoCoord:[118.78, 32.04]},\n",
    "{name:'合肥', geoCoord:[117.27, 31.86]},\n",
    "{name:'杭州', geoCoord:[120.19, 30.26]},\n",
    "{name:'南昌', geoCoord:[115.89, 28.68]},\n",
    "{name:'福州', geoCoord:[119.3, 26.08]},\n",
    "{name:'广州', geoCoord:[113.23, 23.16]},\n",
    "{name:'长沙', geoCoord:[113, 28.21]},\n",
    "//{name:'海口', geoCoord:[110.35, 20.02]},\n",
    "{name:'沈阳', geoCoord:[123.38, 41.8]},\n",
    "{name:'长春', geoCoord:[125.35, 43.88]},\n",
    "{name:'哈尔滨', geoCoord:[126.63, 45.75]},\n",
    "{name:'太原', geoCoord:[112.53, 37.87]},\n",
    "{name:'西安', geoCoord:[108.95, 34.27]},\n",
    "//{name:'台湾', geoCoord:[121.30, 25.03]},\n",
    "{name:'北京', geoCoord:[116.46, 39.92]},\n",
    "{name:'上海', geoCoord:[121.48, 31.22]},\n",
    "{name:'重庆', geoCoord:[106.54, 29.59]},\n",
    "{name:'天津', geoCoord:[117.2, 39.13]},\n",
    "{name:'呼和浩特', geoCoord:[111.65, 40.82]},\n",
    "{name:'南宁', geoCoord:[108.33, 22.84]},\n",
    "//{name:'西藏', geoCoord:[91.11, 29.97]},\n",
    "{name:'银川', geoCoord:[106.27, 38.47]},\n",
    "{name:'乌鲁木齐', geoCoord:[87.68, 43.77]},\n",
    "{name:'香港', geoCoord:[114.17, 22.28]},\n",
    "{name:'澳门', geoCoord:[113.54, 22.19]}\n",
    "\"\"\""
   ]
  },
  {
   "cell_type": "code",
   "execution_count": 39,
   "metadata": {},
   "outputs": [],
   "source": [
    "import matplotlib\n",
    "import  icecream as ic"
   ]
  },
  {
   "cell_type": "code",
   "execution_count": 40,
   "metadata": {},
   "outputs": [
    {
     "name": "stdout",
     "output_type": "stream",
     "text": [
      "['/Users/tom/anaconda3/lib/python3.7/site-packages/matplotlib']\n"
     ]
    }
   ],
   "source": [
    "print(matplotlib.__path__)"
   ]
  },
  {
   "cell_type": "code",
   "execution_count": 70,
   "metadata": {},
   "outputs": [],
   "source": [
    "import re\n",
    "city_location= {}"
   ]
  },
  {
   "cell_type": "code",
   "execution_count": 71,
   "metadata": {},
   "outputs": [
    {
     "name": "stdout",
     "output_type": "stream",
     "text": [
      "兰州 (103.73, 36.03)\n",
      "嘉峪关 (98.17, 39.47)\n",
      "西宁 (101.74, 36.56)\n",
      "成都 (104.06, 30.67)\n",
      "石家庄 (114.48, 38.03)\n",
      "拉萨 (102.73, 25.04)\n",
      "贵阳 (106.71, 26.57)\n",
      "武汉 (114.31, 30.52)\n",
      "郑州 (113.65, 34.76)\n",
      "济南 (117.0, 36.65)\n",
      "南京 (118.78, 32.04)\n",
      "合肥 (117.27, 31.86)\n",
      "杭州 (120.19, 30.26)\n",
      "南昌 (115.89, 28.68)\n",
      "福州 (119.3, 26.08)\n",
      "广州 (113.23, 23.16)\n",
      "长沙 (113.0, 28.21)\n",
      "沈阳 (123.38, 41.8)\n",
      "长春 (125.35, 43.88)\n",
      "哈尔滨 (126.63, 45.75)\n",
      "太原 (112.53, 37.87)\n",
      "西安 (108.95, 34.27)\n",
      "北京 (116.46, 39.92)\n",
      "上海 (121.48, 31.22)\n",
      "重庆 (106.54, 29.59)\n",
      "天津 (117.2, 39.13)\n",
      "呼和浩特 (111.65, 40.82)\n",
      "南宁 (108.33, 22.84)\n",
      "银川 (106.27, 38.47)\n",
      "乌鲁木齐 (87.68, 43.77)\n",
      "香港 (114.17, 22.28)\n",
      "澳门 (113.54, 22.19)\n"
     ]
    }
   ],
   "source": [
    "for line in coordination_source.split('\\n'):\n",
    "    if line.startswith(\"//\"): continue\n",
    "    if line.strip() == '':continue\n",
    "    city = re.findall(\"name:'(\\w+)'\",line)[0]\n",
    "    x_y = re.findall(\"Coord:\\[(\\d+.\\d+),\\s(\\d+.\\d+)\\]\",line)[0]\n",
    "    x_y = tuple(map(float,x_y))\n",
    "    city_location[city] = x_y\n",
    "    print(city,x_y)\n",
    "    "
   ]
  },
  {
   "cell_type": "code",
   "execution_count": 72,
   "metadata": {},
   "outputs": [],
   "source": [
    "import math\n",
    "def geo_distance(origin, destination):\n",
    "    \"\"\"\n",
    "    Calculate the Haversine distance.\n",
    "\n",
    "    Parameters\n",
    "    ----------\n",
    "    origin : tuple of float\n",
    "        (lat, long)\n",
    "    destination : tuple of float\n",
    "        (lat, long)\n",
    "\n",
    "    Returns\n",
    "    -------\n",
    "    distance_in_km : float\n",
    "\n",
    "    Examples\n",
    "    --------\n",
    "    >>> origin = (48.1372, 11.5756)  # Munich\n",
    "    >>> destination = (52.5186, 13.4083)  # Berlin\n",
    "    >>> round(distance(origin, destination), 1)\n",
    "    504.2\n",
    "    \"\"\"\n",
    "    lat1, lon1 = origin\n",
    "    lat2, lon2 = destination\n",
    "    radius = 6371  # km\n",
    "\n",
    "    dlat = math.radians(lat2 - lat1)\n",
    "    dlon = math.radians(lon2 - lon1)\n",
    "    a = (math.sin(dlat / 2) * math.sin(dlat / 2) +\n",
    "         math.cos(math.radians(lat1)) * math.cos(math.radians(lat2)) *\n",
    "         math.sin(dlon / 2) * math.sin(dlon / 2))\n",
    "    c = 2 * math.atan2(math.sqrt(a), math.sqrt(1 - a))\n",
    "    d = radius * c\n",
    "\n",
    "    return d"
   ]
  },
  {
   "cell_type": "code",
   "execution_count": 73,
   "metadata": {},
   "outputs": [],
   "source": [
    "def get_city_distance(city1,city2):\n",
    "    return geo_distance(city_location[city1], city_location[city2])"
   ]
  },
  {
   "cell_type": "code",
   "execution_count": 74,
   "metadata": {},
   "outputs": [
    {
     "data": {
      "text/plain": [
       "727.52769688981"
      ]
     },
     "execution_count": 74,
     "metadata": {},
     "output_type": "execute_result"
    }
   ],
   "source": [
    "get_city_distance('北京','上海')"
   ]
  },
  {
   "cell_type": "code",
   "execution_count": 75,
   "metadata": {},
   "outputs": [],
   "source": [
    "import networkx as nx"
   ]
  },
  {
   "cell_type": "code",
   "execution_count": 76,
   "metadata": {},
   "outputs": [],
   "source": [
    "cities = list(city_location.keys())"
   ]
  },
  {
   "cell_type": "code",
   "execution_count": 77,
   "metadata": {},
   "outputs": [
    {
     "data": {
      "text/plain": [
       "['兰州',\n",
       " '嘉峪关',\n",
       " '西宁',\n",
       " '成都',\n",
       " '石家庄',\n",
       " '拉萨',\n",
       " '贵阳',\n",
       " '武汉',\n",
       " '郑州',\n",
       " '济南',\n",
       " '南京',\n",
       " '合肥',\n",
       " '杭州',\n",
       " '南昌',\n",
       " '福州',\n",
       " '广州',\n",
       " '长沙',\n",
       " '沈阳',\n",
       " '长春',\n",
       " '哈尔滨',\n",
       " '太原',\n",
       " '西安',\n",
       " '北京',\n",
       " '上海',\n",
       " '重庆',\n",
       " '天津',\n",
       " '呼和浩特',\n",
       " '南宁',\n",
       " '银川',\n",
       " '乌鲁木齐',\n",
       " '香港',\n",
       " '澳门']"
      ]
     },
     "execution_count": 77,
     "metadata": {},
     "output_type": "execute_result"
    }
   ],
   "source": [
    "cities"
   ]
  },
  {
   "cell_type": "code",
   "execution_count": 78,
   "metadata": {},
   "outputs": [],
   "source": [
    "city_graph = nx.Graph()"
   ]
  },
  {
   "cell_type": "code",
   "execution_count": 79,
   "metadata": {},
   "outputs": [],
   "source": [
    "city_graph.add_nodes_from(cities)"
   ]
  },
  {
   "cell_type": "code",
   "execution_count": 80,
   "metadata": {},
   "outputs": [
    {
     "data": {
      "image/png": "[encoded data removed]",
      "text/plain": [
       "<Figure size 432x288 with 1 Axes>"
      ]
     },
     "metadata": {},
     "output_type": "display_data"
    }
   ],
   "source": [
    "nx.draw(city_graph,city_location,with_labels = True,node_size = 10)"
   ]
  },
  {
   "cell_type": "code",
   "execution_count": 81,
   "metadata": {},
   "outputs": [
    {
     "data": {
      "text/plain": [
       "<networkx.classes.graph.Graph at 0x117e78208>"
      ]
     },
     "execution_count": 81,
     "metadata": {},
     "output_type": "execute_result"
    }
   ],
   "source": [
    "city_graph"
   ]
  },
  {
   "cell_type": "code",
   "execution_count": 82,
   "metadata": {},
   "outputs": [
    {
     "data": {
      "text/plain": [
       "153.5185697155768"
      ]
     },
     "execution_count": 82,
     "metadata": {},
     "output_type": "execute_result"
    }
   ],
   "source": [
    "get_city_distance('杭州','上海')"
   ]
  },
  {
   "cell_type": "code",
   "execution_count": 83,
   "metadata": {},
   "outputs": [],
   "source": [
    "threshold = 700"
   ]
  },
  {
   "cell_type": "code",
   "execution_count": 84,
   "metadata": {},
   "outputs": [],
   "source": [
    "from collections  import defaultdict"
   ]
  },
  {
   "cell_type": "code",
   "execution_count": 85,
   "metadata": {},
   "outputs": [],
   "source": [
    "cities_connection = defaultdict(list)"
   ]
  },
  {
   "cell_type": "code",
   "execution_count": 86,
   "metadata": {},
   "outputs": [],
   "source": [
    "for c1 in cities:\n",
    "    for c2 in cities:\n",
    "        if c1 == c2: continue\n",
    "        if get_city_distance(c1,c2) < threshold:\n",
    "            cities_connection[c1].append(c2)"
   ]
  },
  {
   "cell_type": "code",
   "execution_count": 87,
   "metadata": {},
   "outputs": [
    {
     "name": "stdout",
     "output_type": "stream",
     "text": [
      "defaultdict(<class 'list'>, {'兰州': ['嘉峪关', '西宁', '成都', '拉萨', '贵阳', '西安', '重庆', '南宁', '银川'], '嘉峪关': ['兰州', '西宁', '成都', '拉萨'], '西宁': ['兰州', '嘉峪关', '成都', '拉萨', '贵阳', '重庆', '银川'], '成都': ['兰州', '嘉峪关', '西宁', '拉萨', '贵阳', '西安', '重庆', '南宁', '银川'], '石家庄': ['武汉', '郑州', '济南', '南京', '合肥', '南昌', '广州', '长沙', '太原', '西安', '北京', '天津', '呼和浩特'], '拉萨': ['兰州', '嘉峪关', '西宁', '成都', '贵阳', '重庆', '南宁', '银川'], '贵阳': ['兰州', '西宁', '成都', '拉萨', '西安', '重庆', '南宁', '银川'], '武汉': ['石家庄', '郑州', '济南', '南京', '合肥', '杭州', '南昌', '福州', '广州', '长沙', '太原', '西安', '北京', '天津', '呼和浩特', '香港', '澳门'], '郑州': ['石家庄', '武汉', '济南', '南京', '合肥', '南昌', '广州', '长沙', '太原', '西安', '北京', '天津', '呼和浩特', '香港', '澳门'], '济南': ['石家庄', '武汉', '郑州', '南京', '合肥', '杭州', '南昌', '福州', '长沙', '太原', '北京', '上海', '天津', '呼和浩特'], '南京': ['石家庄', '武汉', '郑州', '济南', '合肥', '杭州', '南昌', '福州', '长沙', '北京', '上海', '天津'], '合肥': ['石家庄', '武汉', '郑州', '济南', '南京', '杭州', '南昌', '福州', '广州', '长沙', '太原', '北京', '上海', '天津', '香港', '澳门'], '杭州': ['武汉', '济南', '南京', '合肥', '南昌', '福州', '北京', '上海', '天津'], '南昌': ['石家庄', '武汉', '郑州', '济南', '南京', '合肥', '杭州', '福州', '广州', '长沙', '太原', '北京', '上海', '天津', '香港', '澳门'], '福州': ['武汉', '济南', '南京', '合肥', '杭州', '南昌', '广州', '上海', '香港', '澳门'], '广州': ['石家庄', '武汉', '郑州', '合肥', '南昌', '福州', '长沙', '太原', '西安', '南宁', '香港', '澳门'], '长沙': ['石家庄', '武汉', '郑州', '济南', '南京', '合肥', '南昌', '广州', '太原', '西安', '北京', '天津', '呼和浩特', '南宁', '香港', '澳门'], '沈阳': ['长春', '哈尔滨', '上海'], '长春': ['沈阳', '哈尔滨'], '哈尔滨': ['沈阳', '长春'], '太原': ['石家庄', '武汉', '郑州', '济南', '合肥', '南昌', '广州', '长沙', '西安', '北京', '天津', '呼和浩特', '银川', '澳门'], '西安': ['兰州', '成都', '石家庄', '贵阳', '武汉', '郑州', '广州', '长沙', '太原', '重庆', '呼和浩特', '南宁', '银川'], '北京': ['石家庄', '武汉', '郑州', '济南', '南京', '合肥', '杭州', '南昌', '长沙', '太原', '天津', '呼和浩特'], '上海': ['济南', '南京', '合肥', '杭州', '南昌', '福州', '沈阳', '天津'], '重庆': ['兰州', '西宁', '成都', '拉萨', '贵阳', '西安', '呼和浩特', '南宁', '银川'], '天津': ['石家庄', '武汉', '郑州', '济南', '南京', '合肥', '杭州', '南昌', '长沙', '太原', '北京', '上海', '呼和浩特'], '呼和浩特': ['石家庄', '武汉', '郑州', '济南', '长沙', '太原', '西安', '北京', '重庆', '天津', '银川'], '南宁': ['兰州', '成都', '拉萨', '贵阳', '广州', '长沙', '西安', '重庆', '银川', '香港', '澳门'], '银川': ['兰州', '西宁', '成都', '拉萨', '贵阳', '太原', '西安', '重庆', '呼和浩特', '南宁'], '香港': ['武汉', '郑州', '合肥', '南昌', '福州', '广州', '长沙', '南宁', '澳门'], '澳门': ['武汉', '郑州', '合肥', '南昌', '福州', '广州', '长沙', '太原', '南宁', '香港']})\n"
     ]
    }
   ],
   "source": [
    "print(cities_connection)"
   ]
  },
  {
   "cell_type": "code",
   "execution_count": 110,
   "metadata": {},
   "outputs": [
    {
     "data": {
      "text/plain": [
       "['武汉', '济南', '南京', '合肥', '南昌', '福州', '北京', '上海', '天津']"
      ]
     },
     "execution_count": 110,
     "metadata": {},
     "output_type": "execute_result"
    }
   ],
   "source": [
    "cities_connection[\"杭州\"]"
   ]
  },
  {
   "cell_type": "code",
   "execution_count": 111,
   "metadata": {},
   "outputs": [],
   "source": [
    "cities_connection_path = nx.Graph(cities_connection)"
   ]
  },
  {
   "cell_type": "code",
   "execution_count": 112,
   "metadata": {},
   "outputs": [
    {
     "name": "stderr",
     "output_type": "stream",
     "text": [
      "/Users/tom/anaconda3/lib/python3.7/site-packages/networkx/drawing/nx_pylab.py:611: MatplotlibDeprecationWarning: isinstance(..., numbers.Number)\n",
      "  if cb.is_numlike(alpha):\n"
     ]
    },
    {
     "data": {
      "image/png": "[encoded data removed]",
      "text/plain": [
       "<Figure size 432x288 with 1 Axes>"
      ]
     },
     "metadata": {},
     "output_type": "display_data"
    }
   ],
   "source": [
    "nx.draw(cities_connection_path,city_location,with_labels = True,node_size = 100)"
   ]
  },
  {
   "cell_type": "code",
   "execution_count": 89,
   "metadata": {},
   "outputs": [],
   "source": [
    "def is_goal(desitination):\n",
    "    def _wrap(current_path):\n",
    "        return current_path[-1] == desitination\n",
    "    return _wrap"
   ]
  },
  {
   "cell_type": "code",
   "execution_count": 101,
   "metadata": {},
   "outputs": [],
   "source": [
    "def search(graph,start,is_goal,search_strategy):\n",
    "    pathes = [[start]]\n",
    "    seen = set()\n",
    "    while pathes:\n",
    "        path = pathes.pop(0)\n",
    "        froniter = path[-1]\n",
    "        \n",
    "        if froniter in seen: continue\n",
    "        \n",
    "        successors = graph[froniter]\n",
    "        \n",
    "        for city in successors:\n",
    "            if city in path:continue\n",
    "            new_path =path + [city]\n",
    "            pathes.append(new_path)\n",
    "                \n",
    "            if is_goal(new_path):\n",
    "                return new_path\n",
    "#         print('len(pathes)={}'.format(pathes))\n",
    "        seen.add(froniter)\n",
    "        pathes = search_strategy(pathes)\n",
    "                \n",
    "              "
   ]
  },
  {
   "cell_type": "code",
   "execution_count": 102,
   "metadata": {},
   "outputs": [],
   "source": [
    "def sort_path(cmp_func,beam=-1):\n",
    "    def _sorted(pathes):\n",
    "        return sorted(pathes,key=cmp_func)[:-1]\n",
    "    return _sorted\n",
    "        "
   ]
  },
  {
   "cell_type": "code",
   "execution_count": 103,
   "metadata": {},
   "outputs": [],
   "source": [
    "def get_path_distance(path):\n",
    "    distance = 0\n",
    "    for i,c in enumerate(path[:-1]):\n",
    "        distance += get_city_distance(c,path[i+1])\n",
    "        \n",
    "    return distance\n",
    "    "
   ]
  },
  {
   "cell_type": "code",
   "execution_count": 104,
   "metadata": {},
   "outputs": [],
   "source": [
    "def get_total_station(path):\n",
    "    return len(path)"
   ]
  },
  {
   "cell_type": "code",
   "execution_count": 105,
   "metadata": {},
   "outputs": [],
   "source": [
    "def get_comprehensive_path(path):\n",
    "    return get_path_distance(path) + get_total_station(path)"
   ]
  },
  {
   "cell_type": "code",
   "execution_count": 106,
   "metadata": {},
   "outputs": [],
   "source": [
    "def get_as_much_path(path):\n",
    "    return -1*len(path)"
   ]
  },
  {
   "cell_type": "code",
   "execution_count": 114,
   "metadata": {},
   "outputs": [
    {
     "data": {
      "text/plain": [
       "665.2271362574077"
      ]
     },
     "execution_count": 114,
     "metadata": {},
     "output_type": "execute_result"
    }
   ],
   "source": [
    "get_path_distance([\"北京\",\"长沙\"])"
   ]
  },
  {
   "cell_type": "code",
   "execution_count": 112,
   "metadata": {},
   "outputs": [
    {
     "data": {
      "text/plain": [
       "['北京', '呼和浩特', '银川', '拉萨']"
      ]
     },
     "execution_count": 112,
     "metadata": {},
     "output_type": "execute_result"
    }
   ],
   "source": [
    "search(cities_connection,start=\"北京\", is_goal=is_goal(\"拉萨\"),search_strategy=sort_path(get_path_distance,beam = 10))"
   ]
  },
  {
   "cell_type": "code",
   "execution_count": 109,
   "metadata": {},
   "outputs": [
    {
     "data": {
      "text/plain": [
       "['北京', '石家庄', '广州']"
      ]
     },
     "execution_count": 109,
     "metadata": {},
     "output_type": "execute_result"
    }
   ],
   "source": [
    "search(cities_connection,start = \"北京\",is_goal = is_goal(\"广州\"),search_strategy = sort_path(get_total_station))"
   ]
  },
  {
   "cell_type": "code",
   "execution_count": 110,
   "metadata": {},
   "outputs": [
    {
     "data": {
      "text/plain": [
       "['北京', '石家庄', '广州']"
      ]
     },
     "execution_count": 110,
     "metadata": {},
     "output_type": "execute_result"
    }
   ],
   "source": [
    "search(cities_connection,start = \"北京\",is_goal = is_goal(\"广州\"),search_strategy = sort_path(get_comprehensive_path))"
   ]
  },
  {
   "cell_type": "code",
   "execution_count": 111,
   "metadata": {},
   "outputs": [
    {
     "data": {
      "text/plain": [
       "['北京', '石家庄', '广州']"
      ]
     },
     "execution_count": 111,
     "metadata": {},
     "output_type": "execute_result"
    }
   ],
   "source": [
    "search(cities_connection,start = \"北京\",is_goal = is_goal(\"广州\"),search_strategy = sort_path(get_as_much_path))"
   ]
  },
  {
   "cell_type": "code",
   "execution_count": null,
   "metadata": {},
   "outputs": [],
   "source": []
  }
 ],
 "metadata": {
  "kernelspec": {
   "display_name": "Python 3",
   "language": "python",
   "name": "python3"
  },
  "language_info": {
   "codemirror_mode": {
    "name": "ipython",
    "version": 3
   },
   "file_extension": ".py",
   "mimetype": "text/x-python",
   "name": "python",
   "nbconvert_exporter": "python",
   "pygments_lexer": "ipython3",
   "version": "3.7.1"
  }
 },
 "nbformat": 4,
 "nbformat_minor": 2
}
