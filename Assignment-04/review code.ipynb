{
 "cells": [
  {
   "cell_type": "code",
   "execution_count": 123,
   "metadata": {},
   "outputs": [],
   "source": [
    "orginal_price = [1,5,8,9,10,17,20,24,30]"
   ]
  },
  {
   "cell_type": "code",
   "execution_count": 124,
   "metadata": {},
   "outputs": [],
   "source": [
    "from collections import defaultdict"
   ]
  },
  {
   "cell_type": "code",
   "execution_count": 125,
   "metadata": {},
   "outputs": [],
   "source": [
    "price  = defaultdict(int)"
   ]
  },
  {
   "cell_type": "code",
   "execution_count": 126,
   "metadata": {},
   "outputs": [],
   "source": [
    "for i ,p in enumerate(orginal_price):\n",
    "    price[i+1] = p\n",
    "assert price[1] == 1"
   ]
  },
  {
   "cell_type": "code",
   "execution_count": 127,
   "metadata": {},
   "outputs": [
    {
     "data": {
      "text/plain": [
       "0"
      ]
     },
     "execution_count": 127,
     "metadata": {},
     "output_type": "execute_result"
    }
   ],
   "source": [
    "price[132]"
   ]
  },
  {
   "cell_type": "code",
   "execution_count": 128,
   "metadata": {},
   "outputs": [],
   "source": [
    "import time"
   ]
  },
  {
   "cell_type": "code",
   "execution_count": 129,
   "metadata": {},
   "outputs": [],
   "source": [
    "def fun_1(n):\n",
    "    for i in range(n) :\n",
    "        print(n)"
   ]
  },
  {
   "cell_type": "code",
   "execution_count": 130,
   "metadata": {},
   "outputs": [],
   "source": [
    "def call_time(fun_1,arg):\n",
    "    start = time.time()\n",
    "    fun_1(arg)\n",
    "    print(\"use time :{}\".format(time.time()-start));"
   ]
  },
  {
   "cell_type": "code",
   "execution_count": 131,
   "metadata": {},
   "outputs": [],
   "source": [
    "from functools import wraps"
   ]
  },
  {
   "cell_type": "code",
   "execution_count": 132,
   "metadata": {},
   "outputs": [],
   "source": [
    "function_called_time = defaultdict(int)\n",
    "def get_call_time(func):\n",
    "    @wraps(func)\n",
    "    def _inner(arg):\n",
    "            global function_called_time\n",
    "            function_called_time[func.__name__] +=1\n",
    "            result = func(arg)\n",
    "            print('function_called_time is :{}'.format(function_called_time[func.__name__]))\n",
    "            return result\n",
    "    return _inner\n",
    "            "
   ]
  },
  {
   "cell_type": "code",
   "execution_count": 133,
   "metadata": {},
   "outputs": [
    {
     "name": "stdout",
     "output_type": "stream",
     "text": [
      "10\n",
      "10\n",
      "10\n",
      "10\n",
      "10\n",
      "10\n",
      "10\n",
      "10\n",
      "10\n",
      "10\n",
      "use time :0.0004680156707763672\n"
     ]
    }
   ],
   "source": [
    "call_time(fun_1,10)"
   ]
  },
  {
   "cell_type": "code",
   "execution_count": 134,
   "metadata": {},
   "outputs": [],
   "source": [
    "fun_1 = get_call_time(fun_1)"
   ]
  },
  {
   "cell_type": "code",
   "execution_count": 135,
   "metadata": {},
   "outputs": [
    {
     "name": "stdout",
     "output_type": "stream",
     "text": [
      "10\n",
      "10\n",
      "10\n",
      "10\n",
      "10\n",
      "10\n",
      "10\n",
      "10\n",
      "10\n",
      "10\n",
      "function_called_time is :1\n"
     ]
    }
   ],
   "source": [
    "fun_1(10)"
   ]
  },
  {
   "cell_type": "code",
   "execution_count": 136,
   "metadata": {},
   "outputs": [],
   "source": [
    "@get_call_time\n",
    "def fun_1(n):\n",
    "    for i in range(n):\n",
    "        print(n)\n",
    "    return 0"
   ]
  },
  {
   "cell_type": "code",
   "execution_count": 137,
   "metadata": {},
   "outputs": [
    {
     "name": "stdout",
     "output_type": "stream",
     "text": [
      "10\n",
      "10\n",
      "10\n",
      "10\n",
      "10\n",
      "10\n",
      "10\n",
      "10\n",
      "10\n",
      "10\n",
      "function_called_time is :2\n"
     ]
    },
    {
     "data": {
      "text/plain": [
       "0"
      ]
     },
     "execution_count": 137,
     "metadata": {},
     "output_type": "execute_result"
    }
   ],
   "source": [
    "fun_1(10)"
   ]
  },
  {
   "cell_type": "code",
   "execution_count": 138,
   "metadata": {},
   "outputs": [],
   "source": [
    "@get_call_time\n",
    "def func_slow(n):\n",
    "    for i in range(n):\n",
    "        time.sleep(0.5)\n",
    "        print(n)"
   ]
  },
  {
   "cell_type": "code",
   "execution_count": 139,
   "metadata": {},
   "outputs": [
    {
     "name": "stdout",
     "output_type": "stream",
     "text": [
      "1\n",
      "function_called_time is :1\n"
     ]
    }
   ],
   "source": [
    "func_slow(1)"
   ]
  },
  {
   "cell_type": "code",
   "execution_count": 140,
   "metadata": {},
   "outputs": [
    {
     "name": "stdout",
     "output_type": "stream",
     "text": [
      "5\n",
      "5\n",
      "5\n",
      "5\n",
      "5\n",
      "function_called_time is :2\n"
     ]
    }
   ],
   "source": [
    "func_slow(5)"
   ]
  },
  {
   "cell_type": "code",
   "execution_count": 144,
   "metadata": {},
   "outputs": [],
   "source": [
    "solution = {}"
   ]
  },
  {
   "cell_type": "code",
   "execution_count": 145,
   "metadata": {},
   "outputs": [],
   "source": [
    "def memo(func):\n",
    "    cache = {}\n",
    "    @wraps(func)\n",
    "    def _wrap(n):\n",
    "        if n in cache:result = cache[n]\n",
    "        else:\n",
    "            result = func(n)\n",
    "            cache[n] =result\n",
    "        return result\n",
    "    return _wrap"
   ]
  },
  {
   "cell_type": "code",
   "execution_count": 146,
   "metadata": {},
   "outputs": [],
   "source": [
    "@memo\n",
    "def r(n):\n",
    "    max_price,split_point = max([(price[n],0)]+[(r(i)+r(n-i),i) for i in range(1,n)],key=lambda x:x[0])\n",
    "    solution[n] = (split_point,n - split_point)\n",
    "    return max_price"
   ]
  },
  {
   "cell_type": "code",
   "execution_count": 147,
   "metadata": {},
   "outputs": [
    {
     "data": {
      "text/plain": [
       "767"
      ]
     },
     "execution_count": 147,
     "metadata": {},
     "output_type": "execute_result"
    }
   ],
   "source": [
    "r(231)"
   ]
  },
  {
   "cell_type": "code",
   "execution_count": 148,
   "metadata": {},
   "outputs": [
    {
     "data": {
      "text/plain": [
       "(9, 9)"
      ]
     },
     "execution_count": 148,
     "metadata": {},
     "output_type": "execute_result"
    }
   ],
   "source": [
    "solution[18]"
   ]
  },
  {
   "cell_type": "code",
   "execution_count": 149,
   "metadata": {},
   "outputs": [
    {
     "data": {
      "text/plain": [
       "(3, 18)"
      ]
     },
     "execution_count": 149,
     "metadata": {},
     "output_type": "execute_result"
    }
   ],
   "source": [
    "solution[21]"
   ]
  },
  {
   "cell_type": "code",
   "execution_count": 150,
   "metadata": {},
   "outputs": [
    {
     "data": {
      "text/plain": [
       "{1: (0, 1),\n",
       " 2: (0, 2),\n",
       " 3: (0, 3),\n",
       " 4: (2, 2),\n",
       " 5: (2, 3),\n",
       " 6: (0, 6),\n",
       " 7: (0, 7),\n",
       " 8: (0, 8),\n",
       " 9: (0, 9),\n",
       " 10: (1, 9),\n",
       " 11: (2, 9),\n",
       " 12: (3, 9),\n",
       " 13: (2, 11),\n",
       " 14: (2, 12),\n",
       " 15: (6, 9),\n",
       " 16: (7, 9),\n",
       " 17: (8, 9),\n",
       " 18: (9, 9),\n",
       " 19: (1, 18),\n",
       " 20: (2, 18),\n",
       " 21: (3, 18),\n",
       " 22: (2, 20),\n",
       " 23: (2, 21),\n",
       " 24: (6, 18),\n",
       " 25: (7, 18),\n",
       " 26: (8, 18),\n",
       " 27: (9, 18),\n",
       " 28: (1, 27),\n",
       " 29: (2, 27),\n",
       " 30: (3, 27),\n",
       " 31: (2, 29),\n",
       " 32: (2, 30),\n",
       " 33: (6, 27),\n",
       " 34: (7, 27),\n",
       " 35: (8, 27),\n",
       " 36: (9, 27),\n",
       " 37: (1, 36),\n",
       " 38: (2, 36),\n",
       " 39: (3, 36),\n",
       " 40: (2, 38),\n",
       " 41: (2, 39),\n",
       " 42: (6, 36),\n",
       " 43: (7, 36),\n",
       " 44: (8, 36),\n",
       " 45: (9, 36),\n",
       " 46: (1, 45),\n",
       " 47: (2, 45),\n",
       " 48: (3, 45),\n",
       " 49: (2, 47),\n",
       " 50: (2, 48),\n",
       " 51: (6, 45),\n",
       " 52: (7, 45),\n",
       " 53: (8, 45),\n",
       " 54: (9, 45),\n",
       " 55: (1, 54),\n",
       " 56: (2, 54),\n",
       " 57: (3, 54),\n",
       " 58: (2, 56),\n",
       " 59: (2, 57),\n",
       " 60: (6, 54),\n",
       " 61: (7, 54),\n",
       " 62: (8, 54),\n",
       " 63: (9, 54),\n",
       " 64: (1, 63),\n",
       " 65: (2, 63),\n",
       " 66: (3, 63),\n",
       " 67: (2, 65),\n",
       " 68: (2, 66),\n",
       " 69: (6, 63),\n",
       " 70: (7, 63),\n",
       " 71: (8, 63),\n",
       " 72: (9, 63),\n",
       " 73: (1, 72),\n",
       " 74: (2, 72),\n",
       " 75: (3, 72),\n",
       " 76: (2, 74),\n",
       " 77: (2, 75),\n",
       " 78: (6, 72),\n",
       " 79: (7, 72),\n",
       " 80: (8, 72),\n",
       " 81: (9, 72),\n",
       " 82: (1, 81),\n",
       " 83: (2, 81),\n",
       " 84: (3, 81),\n",
       " 85: (2, 83),\n",
       " 86: (2, 84),\n",
       " 87: (6, 81),\n",
       " 88: (7, 81),\n",
       " 89: (8, 81),\n",
       " 90: (9, 81),\n",
       " 91: (1, 90),\n",
       " 92: (2, 90),\n",
       " 93: (3, 90),\n",
       " 94: (2, 92),\n",
       " 95: (2, 93),\n",
       " 96: (6, 90),\n",
       " 97: (7, 90),\n",
       " 98: (8, 90),\n",
       " 99: (9, 90),\n",
       " 100: (1, 99),\n",
       " 101: (2, 99),\n",
       " 102: (3, 99),\n",
       " 103: (2, 101),\n",
       " 104: (2, 102),\n",
       " 105: (6, 99),\n",
       " 106: (7, 99),\n",
       " 107: (8, 99),\n",
       " 108: (9, 99),\n",
       " 109: (1, 108),\n",
       " 110: (2, 108),\n",
       " 111: (3, 108),\n",
       " 112: (2, 110),\n",
       " 113: (2, 111),\n",
       " 114: (6, 108),\n",
       " 115: (7, 108),\n",
       " 116: (8, 108),\n",
       " 117: (9, 108),\n",
       " 118: (1, 117),\n",
       " 119: (2, 117),\n",
       " 120: (3, 117),\n",
       " 121: (2, 119),\n",
       " 122: (2, 120),\n",
       " 123: (6, 117),\n",
       " 124: (7, 117),\n",
       " 125: (8, 117),\n",
       " 126: (9, 117),\n",
       " 127: (1, 126),\n",
       " 128: (2, 126),\n",
       " 129: (3, 126),\n",
       " 130: (2, 128),\n",
       " 131: (2, 129),\n",
       " 132: (6, 126),\n",
       " 133: (7, 126),\n",
       " 134: (8, 126),\n",
       " 135: (9, 126),\n",
       " 136: (1, 135),\n",
       " 137: (2, 135),\n",
       " 138: (3, 135),\n",
       " 139: (2, 137),\n",
       " 140: (2, 138),\n",
       " 141: (6, 135),\n",
       " 142: (7, 135),\n",
       " 143: (8, 135),\n",
       " 144: (9, 135),\n",
       " 145: (1, 144),\n",
       " 146: (2, 144),\n",
       " 147: (3, 144),\n",
       " 148: (2, 146),\n",
       " 149: (2, 147),\n",
       " 150: (6, 144),\n",
       " 151: (7, 144),\n",
       " 152: (8, 144),\n",
       " 153: (9, 144),\n",
       " 154: (1, 153),\n",
       " 155: (2, 153),\n",
       " 156: (3, 153),\n",
       " 157: (2, 155),\n",
       " 158: (2, 156),\n",
       " 159: (6, 153),\n",
       " 160: (7, 153),\n",
       " 161: (8, 153),\n",
       " 162: (9, 153),\n",
       " 163: (1, 162),\n",
       " 164: (2, 162),\n",
       " 165: (3, 162),\n",
       " 166: (2, 164),\n",
       " 167: (2, 165),\n",
       " 168: (6, 162),\n",
       " 169: (7, 162),\n",
       " 170: (8, 162),\n",
       " 171: (9, 162),\n",
       " 172: (1, 171),\n",
       " 173: (2, 171),\n",
       " 174: (3, 171),\n",
       " 175: (2, 173),\n",
       " 176: (2, 174),\n",
       " 177: (6, 171),\n",
       " 178: (7, 171),\n",
       " 179: (8, 171),\n",
       " 180: (9, 171),\n",
       " 181: (1, 180),\n",
       " 182: (2, 180),\n",
       " 183: (3, 180),\n",
       " 184: (2, 182),\n",
       " 185: (2, 183),\n",
       " 186: (6, 180),\n",
       " 187: (7, 180),\n",
       " 188: (8, 180),\n",
       " 189: (9, 180),\n",
       " 190: (1, 189),\n",
       " 191: (2, 189),\n",
       " 192: (3, 189),\n",
       " 193: (2, 191),\n",
       " 194: (2, 192),\n",
       " 195: (6, 189),\n",
       " 196: (7, 189),\n",
       " 197: (8, 189),\n",
       " 198: (9, 189),\n",
       " 199: (1, 198),\n",
       " 200: (2, 198),\n",
       " 201: (3, 198),\n",
       " 202: (2, 200),\n",
       " 203: (2, 201),\n",
       " 204: (6, 198),\n",
       " 205: (7, 198),\n",
       " 206: (8, 198),\n",
       " 207: (9, 198),\n",
       " 208: (1, 207),\n",
       " 209: (2, 207),\n",
       " 210: (3, 207),\n",
       " 211: (2, 209),\n",
       " 212: (2, 210),\n",
       " 213: (6, 207),\n",
       " 214: (7, 207),\n",
       " 215: (8, 207),\n",
       " 216: (9, 207),\n",
       " 217: (1, 216),\n",
       " 218: (2, 216),\n",
       " 219: (3, 216),\n",
       " 220: (2, 218),\n",
       " 221: (2, 219),\n",
       " 222: (6, 216),\n",
       " 223: (7, 216),\n",
       " 224: (8, 216),\n",
       " 225: (9, 216),\n",
       " 226: (1, 225),\n",
       " 227: (2, 225),\n",
       " 228: (3, 225),\n",
       " 229: (2, 227),\n",
       " 230: (2, 228),\n",
       " 231: (6, 225)}"
      ]
     },
     "execution_count": 150,
     "metadata": {},
     "output_type": "execute_result"
    }
   ],
   "source": [
    "solution"
   ]
  },
  {
   "cell_type": "code",
   "execution_count": null,
   "metadata": {},
   "outputs": [],
   "source": []
  }
 ],
 "metadata": {
  "kernelspec": {
   "display_name": "Python 3",
   "language": "python",
   "name": "python3"
  },
  "language_info": {
   "codemirror_mode": {
    "name": "ipython",
    "version": 3
   },
   "file_extension": ".py",
   "mimetype": "text/x-python",
   "name": "python",
   "nbconvert_exporter": "python",
   "pygments_lexer": "ipython3",
   "version": "3.7.1"
  }
 },
 "nbformat": 4,
 "nbformat_minor": 2
}
