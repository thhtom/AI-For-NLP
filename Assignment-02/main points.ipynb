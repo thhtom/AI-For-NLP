{
 "cells": [
  {
   "cell_type": "markdown",
   "metadata": {},
   "source": [
    "1. How to Github and Why do we use Jupyter and Pycharm;\n",
    "Ans:\n",
    "    Github是代码管理工具，采用分布式管理代码，可以使自己更好的管理自己的代码，团队协作开发。\n",
    "    GitHub的使用：首先建立仓库，可以先在GitHub服务器上建立，也可以在本地使用git init命令在本地建立。\n",
    "    在服务器建立之后，可以根据自己的情况，使用这些命令进行操作：\n",
    "    \n",
    "     create a new repository on the command line：\n",
    "     \n",
    "        echo \"# test\" >> README.md\n",
    "        git init\n",
    "        git add README.md\n",
    "        git commit -m \"first commit\"\n",
    "        git remote add origin https://github.com/thhtom/test.git\n",
    "        git push -u origin master\n",
    "        \n",
    "     push an existing repository from the command line：\n",
    "         git remote add origin https://github.com/thhtom/test.git\n",
    "         git push -u origin master\n",
    "         \n",
    "      git常用命令：\n",
    "          git add  *  把自己修改增加的文件，添加到git里\n",
    "          git commit -m \"test\"  记录本次提交的信息做一个备注，说明。\n",
    "          git push   把自己的代码推送到git服务器\n",
    "          git pull   把代码从服务器拉到本地\n",
    "          git branch -a -v  查看分支信息\n",
    "          git checkout  还原代码，放弃已做的需改\n",
    "          git log  查看提交日志\n",
    "      Jupyter notebook  可以做笔记，记录，写数学公式，适合小型项目。调试效率低，不适合开发大型项目。\n",
    "      Pycharm适合开发大型项目，里面集成了很多我们开发中需要用到的工具。    \n",
    "2. What's the Probability Model?\n",
    "Ans:任意一句话，或者任意一段话，出现的概率，把这些计算概率，需要考虑到的问题抽象出一个模型。 基于某种模式算出一个概率值，谁的概率值比较大，谁的可能性比较大。\n",
    "3. Can you came up with some sceneraies at which we could use Probability Model?\n",
    "Ans:无线传感器网络密度控制， 语义分析的场景分类，点集匹配\n",
    "4. Why do we use probability and what's the difficult points for programming based on parsing and pattern match?\n",
    "Ans:写起来复杂，困难，要求比较高，对抽象能力要较高的要求，存储比较高。因为这些原因才采用probability,把这变成数学分析问题。\n",
    "5. What's the Language Model;\n",
    "Ans:判断一句话，一段文字生成的概率的方式，把这些进行抽象成一个模型\n",
    "6. Can yyu you came up with some sceneraies at which we could use Language Model?\n",
    "Ans:语言纠错，拼写纠错，翻译等\n",
    "7. What's the 1-gram language model;\n",
    "Ans:考虑这句话的概率的时候，把这变成基于一个单词相关概率的模型\n",
    "8. What's the disadvantages and advantages of 1-gram language model;\n",
    "Ans:只考虑一个单词，没有考虑多个单词的关系，会判断错误。 优势是简化了模型，但是影响了正确率。\n",
    "9. What't the 2-gram models;\n",
    "Ans:一句话产生的概率，和两个单词相关联的概率。\n",
    "10. what's the web crawler, and can you implement a simple crawler?\n",
    "Ans:网络爬虫，通过技术从网络中获取一些自己感兴趣的数据。\n",
    "11. There may be some issues to make our crwaler programming difficult, what are these, and how do we solve them?\n",
    "Ans:\n",
    "12. What't the Regular Expression and how to use?\n",
    "Ans:通过单个字符串来描述，匹配符合某种语法的一系列字符串。"
   ]
  },
  {
   "cell_type": "code",
   "execution_count": null,
   "metadata": {},
   "outputs": [],
   "source": []
  }
 ],
 "metadata": {
  "kernelspec": {
   "display_name": "Python 3",
   "language": "python",
   "name": "python3"
  },
  "language_info": {
   "codemirror_mode": {
    "name": "ipython",
    "version": 3
   },
   "file_extension": ".py",
   "mimetype": "text/x-python",
   "name": "python",
   "nbconvert_exporter": "python",
   "pygments_lexer": "ipython3",
   "version": "3.7.1"
  }
 },
 "nbformat": 4,
 "nbformat_minor": 2
}
