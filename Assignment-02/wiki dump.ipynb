{
 "cells": [
  {
   "cell_type": "code",
   "execution_count": 1,
   "metadata": {},
   "outputs": [],
   "source": [
    "# wiki_data_00 = \"/Users/tom/Desktop/data/wikiextractor/extracted/AA/wiki_00\"\n",
    "wiki_data_01 = \"/Users/tom/Desktop/data/wikiextractor/extracted/AA/wiki_01\"\n",
    "save_file_path = \"/Users/tom/Desktop/NLP/sc_wiki_data_01.txt\"\n",
    "# save_file_path = \"/Users/tom/Desktop/ch_wiki.txt\""
   ]
  },
  {
   "cell_type": "code",
   "execution_count": 2,
   "metadata": {},
   "outputs": [],
   "source": [
    "import os\n",
    "import re\n",
    "import random\n",
    "import pandas as pd\n",
    "import matplotlib.pyplot as plt\n",
    "import numpy as np\n",
    "\n",
    "from functools import reduce\n",
    "from icecream import ic\n",
    "from collections import Counter\n",
    "from hanziconv import HanziConv\n",
    "import jieba\n",
    "import codecs\n",
    "import sys\n"
   ]
  },
  {
   "cell_type": "code",
   "execution_count": 3,
   "metadata": {},
   "outputs": [
    {
     "name": "stdout",
     "output_type": "stream",
     "text": [
      "我正在學習自然語言處理技術\n"
     ]
    }
   ],
   "source": [
    "print(HanziConv.toTraditional(\"我正在学习自然语言处理技术\"))"
   ]
  },
  {
   "cell_type": "code",
   "execution_count": 4,
   "metadata": {},
   "outputs": [
    {
     "name": "stdout",
     "output_type": "stream",
     "text": [
      "我正在学习自然语言处理技术\n"
     ]
    }
   ],
   "source": [
    "print(HanziConv.toSimplified(\"我正在學習自然語言處理技術\"))"
   ]
  },
  {
   "cell_type": "code",
   "execution_count": 5,
   "metadata": {},
   "outputs": [
    {
     "data": {
      "text/plain": [
       "True"
      ]
     },
     "execution_count": 5,
     "metadata": {},
     "output_type": "execute_result"
    }
   ],
   "source": [
    "os.path.exists(wiki_data_01)"
   ]
  },
  {
   "cell_type": "code",
   "execution_count": 6,
   "metadata": {},
   "outputs": [],
   "source": [
    "import logging\n",
    "\n",
    "def get_stopwords():\n",
    "    logging.basicConfig(format='%(asctime)s:%(levelname)s:%(message)s',level=logging.INFO)\n",
    "    #加载停用词表\n",
    "    stopword_set = set()\n",
    "    with open(\"/Users/tom/Desktop/stopwords.txt\",'r',encoding=\"utf-8\") as stopwords:\n",
    "        for stopword in stopwords:\n",
    "            stopword_set.add(stopword.strip(\"\\n\"))\n",
    "    return stopword_set\n",
    " \n",
    "'''\n",
    "使用正则表达式解析文本\n",
    "'''\n",
    "def parse_zhwiki(read_file_path,save_file_path):\n",
    "    #过滤掉<doc>\n",
    "    regex_str = \"[^<doc.*>$]|[^</doc>$]\"\n",
    "    file = open(read_file_path,\"r\",encoding=\"utf-8\")\n",
    "    #写文件\n",
    "    output = open(save_file_path,\"w+\",encoding=\"utf-8\")\n",
    "    content_line = file.readline()\n",
    "    #获取停用词表\n",
    "    stopwords = get_stopwords()\n",
    "     #定义一个字符串变量，表示一篇文章的分词结果\n",
    "    article_contents = \"\"\n",
    "    while content_line:\n",
    "        match_obj = re.match(regex_str,content_line)\n",
    "        content_line = content_line.strip(\"\\n\")\n",
    "        if len(content_line) > 0:\n",
    "            if match_obj:\n",
    "                #使用jieba进行分词\n",
    "                words = jieba.cut(content_line,cut_all=False)\n",
    "                for word in words:\n",
    "                    if word not in stopwords:\n",
    "                        article_contents += word+\" \"\n",
    "            else:\n",
    "                if len(article_contents) > 0:\n",
    "                    output.write(article_contents+\"\\n\")\n",
    "                    article_contents = \"\"\n",
    "        content_line = file.readline()\n",
    "    output.close()\n",
    " \n",
    "'''\n",
    "将维基百科语料库进行分类\n",
    "'''\n",
    "def generate_corpus():\n",
    "    zhwiki_path = \"/Users/tom/Desktop/NLP\"\n",
    "    save_path = \"/Users/tom/Desktop/NLP\"\n",
    "    for i in range(3):\n",
    "        file_path = os.path.join(zhwiki_path,str(\"zh_wiki_0%s_jt\"%str(i)))\n",
    "        parse_zhwiki(file_path,os.path.join(save_path,\"wiki_corpus0%s\"%str(i)))\n"
   ]
  },
  {
   "cell_type": "markdown",
   "metadata": {},
   "source": [
    "文本处理"
   ]
  },
  {
   "cell_type": "code",
   "execution_count": 7,
   "metadata": {},
   "outputs": [],
   "source": [
    "# parse_zhwiki(wiki_data_01,save_file_path)"
   ]
  },
  {
   "cell_type": "code",
   "execution_count": 8,
   "metadata": {},
   "outputs": [],
   "source": [
    "def process_text(path):\n",
    "    with open(path,'r',encoding=\"utf-8\") as f:\n",
    "        content =  f.read()\n",
    "        return content\n",
    "    "
   ]
  },
  {
   "cell_type": "code",
   "execution_count": 9,
   "metadata": {},
   "outputs": [],
   "source": [
    "text =  process_text(save_file_path)"
   ]
  },
  {
   "cell_type": "code",
   "execution_count": 10,
   "metadata": {},
   "outputs": [],
   "source": [
    "def cut(string): return list(jieba.cut(string))"
   ]
  },
  {
   "cell_type": "code",
   "execution_count": 12,
   "metadata": {},
   "outputs": [],
   "source": [
    "TEXT = cut(text)"
   ]
  },
  {
   "cell_type": "code",
   "execution_count": 13,
   "metadata": {},
   "outputs": [
    {
     "data": {
      "text/plain": [
       "95080019"
      ]
     },
     "execution_count": 13,
     "metadata": {},
     "output_type": "execute_result"
    }
   ],
   "source": [
    "len(TEXT)"
   ]
  },
  {
   "cell_type": "code",
   "execution_count": 14,
   "metadata": {},
   "outputs": [],
   "source": [
    "def get_words(text):\n",
    "    valid_words = []\n",
    "    for w in text:\n",
    "        if  not re.match('[+——() ? 【】“”！，：。？、~@#￥%……&*（ ）《 》,「 」“ ” \\n]+',w):\n",
    "#           if re.match(['[\\w|\\d'+],w)\n",
    "            valid_words.append(w)\n",
    "    return valid_words\n",
    "            "
   ]
  },
  {
   "cell_type": "code",
   "execution_count": 15,
   "metadata": {},
   "outputs": [],
   "source": [
    "TOKENS =  get_words(TEXT)"
   ]
  },
  {
   "cell_type": "code",
   "execution_count": 16,
   "metadata": {},
   "outputs": [
    {
     "data": {
      "text/plain": [
       "['病毒',\n",
       " '概论',\n",
       " '病毒',\n",
       " '是',\n",
       " '一种',\n",
       " '依靠',\n",
       " '宿主',\n",
       " '的',\n",
       " '细胞',\n",
       " '来',\n",
       " '繁殖',\n",
       " '的',\n",
       " '类',\n",
       " '生物',\n",
       " '体',\n",
       " '在',\n",
       " '感染',\n",
       " '宿主',\n",
       " '细胞',\n",
       " '之',\n",
       " '后',\n",
       " '病毒',\n",
       " '就',\n",
       " '会',\n",
       " '迫使',\n",
       " '宿主',\n",
       " '细胞',\n",
       " '以',\n",
       " '很快',\n",
       " '的',\n",
       " '速度',\n",
       " '制',\n",
       " '造',\n",
       " '装配',\n",
       " '出数',\n",
       " '千份',\n",
       " '与',\n",
       " '它',\n",
       " '病毒',\n",
       " '相同',\n",
       " '的',\n",
       " '拷贝',\n",
       " '不像',\n",
       " '大多',\n",
       " '数',\n",
       " '生物',\n",
       " '体',\n",
       " '病毒',\n",
       " '没有',\n",
       " '会',\n",
       " '分裂',\n",
       " '的',\n",
       " '细胞',\n",
       " '新',\n",
       " '的',\n",
       " '病毒',\n",
       " '是',\n",
       " '在',\n",
       " '宿主',\n",
       " '细胞',\n",
       " '内',\n",
       " '生产',\n",
       " '组装',\n",
       " '的',\n",
       " '不过',\n",
       " '与',\n",
       " '构造',\n",
       " '更',\n",
       " '简单',\n",
       " '的',\n",
       " '传染',\n",
       " '性病',\n",
       " '原体',\n",
       " '朊病毒',\n",
       " '不同',\n",
       " '病毒',\n",
       " '含有',\n",
       " '能',\n",
       " '使得',\n",
       " '它们',\n",
       " '发生',\n",
       " '变异',\n",
       " '和',\n",
       " '进化',\n",
       " '的',\n",
       " '核酸',\n",
       " '目前',\n",
       " '人们',\n",
       " '已经',\n",
       " '发现',\n",
       " '了',\n",
       " '超过',\n",
       " '5000',\n",
       " '种',\n",
       " '的',\n",
       " '病毒',\n",
       " '病毒',\n",
       " '的',\n",
       " '起源',\n",
       " '至今',\n",
       " '不明',\n",
       " '有些',\n",
       " '病毒',\n",
       " '可能',\n",
       " '是',\n",
       " '由',\n",
       " '质粒',\n",
       " '即',\n",
       " '一种',\n",
       " '可',\n",
       " '在',\n",
       " '细胞',\n",
       " '间',\n",
       " '移动',\n",
       " '的',\n",
       " '环状',\n",
       " 'DNA',\n",
       " '进化',\n",
       " '而',\n",
       " '来',\n",
       " '同时',\n",
       " '也',\n",
       " '有些',\n",
       " '病毒',\n",
       " '可能',\n",
       " '是',\n",
       " '由',\n",
       " '细菌',\n",
       " '进化',\n",
       " '而',\n",
       " '来',\n",
       " '病毒',\n",
       " '由',\n",
       " '两',\n",
       " '或',\n",
       " '三种',\n",
       " '结构',\n",
       " '组成',\n",
       " '其中',\n",
       " '所有',\n",
       " '病毒',\n",
       " '都',\n",
       " '有',\n",
       " '的',\n",
       " '两种',\n",
       " '结构',\n",
       " '是',\n",
       " '化学',\n",
       " '本质',\n",
       " '爲',\n",
       " 'DNA',\n",
       " '或',\n",
       " 'RNA',\n",
       " '的',\n",
       " '核酸',\n",
       " '与',\n",
       " '保护',\n",
       " '基因',\n",
       " '的',\n",
       " '蛋白',\n",
       " '质外',\n",
       " '壳',\n",
       " '其中',\n",
       " '核酸',\n",
       " '爲',\n",
       " '携带',\n",
       " '遗传',\n",
       " '信息',\n",
       " '的',\n",
       " '长',\n",
       " '链状',\n",
       " '分子',\n",
       " '部分',\n",
       " '病毒',\n",
       " '还有',\n",
       " '一个',\n",
       " '由',\n",
       " '脂肪',\n",
       " '构成',\n",
       " '的',\n",
       " '包裹',\n",
       " '着',\n",
       " '病毒',\n",
       " '体',\n",
       " '的',\n",
       " '病毒',\n",
       " '包膜',\n",
       " '病毒',\n",
       " '包膜',\n",
       " '可以',\n",
       " '在',\n",
       " '病毒',\n",
       " '处',\n",
       " '于',\n",
       " '宿主',\n",
       " '细胞',\n",
       " '胞',\n",
       " '外时',\n",
       " '爲',\n",
       " '它们',\n",
       " '提供',\n",
       " '保护',\n",
       " '病毒',\n",
       " '的',\n",
       " '形状',\n",
       " '变化',\n",
       " '多样',\n",
       " '既有',\n",
       " '螺旋形',\n",
       " '二十面',\n",
       " '体形',\n",
       " '的',\n",
       " '病毒',\n",
       " '也',\n",
       " '有',\n",
       " '拥有',\n",
       " '更',\n",
       " '为',\n",
       " '复',\n",
       " '杂',\n",
       " '的',\n",
       " '几何',\n",
       " '结构',\n",
       " '的',\n",
       " '噬菌体',\n",
       " '病毒',\n",
       " '的',\n",
       " '大小',\n",
       " '在',\n",
       " '20',\n",
       " '纳米',\n",
       " '到',\n",
       " '300',\n",
       " '纳米',\n",
       " '之间',\n",
       " '把',\n",
       " '30',\n",
       " '000',\n",
       " '到',\n",
       " '75',\n",
       " '000',\n",
       " '个',\n",
       " '病毒',\n",
       " '一个',\n",
       " '个',\n",
       " '紧',\n",
       " '靠着',\n",
       " '排列',\n",
       " '起来',\n",
       " '才能',\n",
       " '达到',\n",
       " '1',\n",
       " '厘米',\n",
       " '的',\n",
       " '长',\n",
       " '度',\n",
       " '病毒',\n",
       " '有',\n",
       " '多种',\n",
       " '传播',\n",
       " '方式',\n",
       " '很多',\n",
       " '病毒',\n",
       " '会',\n",
       " '攻击',\n",
       " '特定',\n",
       " '的',\n",
       " '生物',\n",
       " '体',\n",
       " '或',\n",
       " '生物',\n",
       " '组织',\n",
       " '每',\n",
       " '一种',\n",
       " '病毒',\n",
       " '也',\n",
       " '有',\n",
       " '特定',\n",
       " '的',\n",
       " '传播',\n",
       " '方式',\n",
       " '植物',\n",
       " '病毒',\n",
       " '通常',\n",
       " '通过',\n",
       " '昆虫',\n",
       " '或',\n",
       " '其它',\n",
       " '生物',\n",
       " '体在',\n",
       " '植物',\n",
       " '间',\n",
       " '传播',\n",
       " '这种',\n",
       " '帮助',\n",
       " '病毒',\n",
       " '扩散',\n",
       " '的',\n",
       " '生物',\n",
       " '体称',\n",
       " '爲',\n",
       " '病媒',\n",
       " '一些',\n",
       " '动物',\n",
       " '病毒',\n",
       " '包括',\n",
       " '人会',\n",
       " '染上',\n",
       " '的',\n",
       " '病毒',\n",
       " '会',\n",
       " '通过',\n",
       " '被',\n",
       " '它',\n",
       " '感染',\n",
       " '的',\n",
       " '体液',\n",
       " '传播',\n",
       " '而',\n",
       " '像',\n",
       " '流感病毒',\n",
       " '这样',\n",
       " '的',\n",
       " '病毒',\n",
       " '则',\n",
       " '是',\n",
       " '借由',\n",
       " '人',\n",
       " '打',\n",
       " '喷嚏',\n",
       " '或',\n",
       " '咳嗽',\n",
       " '时',\n",
       " '产生',\n",
       " '的',\n",
       " '飞沫',\n",
       " '液滴',\n",
       " '在',\n",
       " '空气',\n",
       " '中',\n",
       " '传播',\n",
       " '的',\n",
       " '而',\n",
       " '以诺',\n",
       " '如',\n",
       " '病毒',\n",
       " '爲',\n",
       " '代表',\n",
       " '的',\n",
       " '一类',\n",
       " '病毒',\n",
       " '则',\n",
       " '是',\n",
       " '通过',\n",
       " '粪口',\n",
       " '途径',\n",
       " '传播',\n",
       " '被',\n",
       " '污染',\n",
       " '的',\n",
       " '手',\n",
       " '食物',\n",
       " '水等',\n",
       " '都',\n",
       " '可以',\n",
       " '传播',\n",
       " '这',\n",
       " '类',\n",
       " '病毒',\n",
       " '轮状',\n",
       " '病毒',\n",
       " '则',\n",
       " '通常',\n",
       " '是',\n",
       " '通过',\n",
       " '与',\n",
       " '被',\n",
       " '感染',\n",
       " '的',\n",
       " '儿童',\n",
       " '的',\n",
       " '直接',\n",
       " '接触',\n",
       " '传播',\n",
       " '艾滋病',\n",
       " '病毒',\n",
       " '可',\n",
       " '通过',\n",
       " '性交',\n",
       " '传播',\n",
       " '因',\n",
       " '爲',\n",
       " '进行',\n",
       " '性交',\n",
       " '时',\n",
       " '双方',\n",
       " '会',\n",
       " '产生',\n",
       " '体液',\n",
       " '的',\n",
       " '转移',\n",
       " '另外',\n",
       " '可以',\n",
       " '通过',\n",
       " '吸血',\n",
       " '昆虫',\n",
       " '传播',\n",
       " '病毒感染',\n",
       " '会',\n",
       " '使',\n",
       " '人',\n",
       " '动物',\n",
       " '甚至',\n",
       " '植物',\n",
       " '生病',\n",
       " '不过',\n",
       " '宿主',\n",
       " '的',\n",
       " '免疫系统',\n",
       " '通常',\n",
       " '能',\n",
       " '清除',\n",
       " '病毒',\n",
       " '并',\n",
       " '产生',\n",
       " '终身',\n",
       " '的',\n",
       " '免疫力',\n",
       " '抗生素',\n",
       " '对',\n",
       " '病毒',\n",
       " '无效',\n",
       " '但',\n",
       " '人们',\n",
       " '已',\n",
       " '开发',\n",
       " '出',\n",
       " '抗病毒',\n",
       " '药以',\n",
       " '治疗',\n",
       " '威胁',\n",
       " '生命',\n",
       " '的',\n",
       " '病毒感染',\n",
       " '疫苗',\n",
       " '也',\n",
       " '能',\n",
       " '使',\n",
       " '宿主',\n",
       " '产生',\n",
       " '终身免疫',\n",
       " '以',\n",
       " '预防',\n",
       " '某些',\n",
       " '病毒感染',\n",
       " '1884',\n",
       " '年',\n",
       " '法国',\n",
       " '微生物学家',\n",
       " '查理斯',\n",
       " '·',\n",
       " '尚柏朗',\n",
       " '发明',\n",
       " '了',\n",
       " '一种',\n",
       " '过滤器',\n",
       " '现',\n",
       " '称作',\n",
       " '尚柏朗',\n",
       " '过滤器',\n",
       " '或',\n",
       " '尚柏朗',\n",
       " '-',\n",
       " '巴斯德',\n",
       " '过滤器',\n",
       " '它',\n",
       " '的',\n",
       " '孔径',\n",
       " '比',\n",
       " '细菌',\n",
       " '还',\n",
       " '小',\n",
       " '他',\n",
       " '想',\n",
       " '用',\n",
       " '这种',\n",
       " '过',\n",
       " '泸器',\n",
       " '过',\n",
       " '泸',\n",
       " '含有',\n",
       " '细菌',\n",
       " '的',\n",
       " '溶液',\n",
       " '以',\n",
       " '完全',\n",
       " '去除',\n",
       " '里面',\n",
       " '的',\n",
       " '细菌',\n",
       " '1890',\n",
       " '年代',\n",
       " '初',\n",
       " '俄国',\n",
       " '生物学家',\n",
       " '德米特里',\n",
       " '·',\n",
       " '伊凡诺',\n",
       " '夫斯基',\n",
       " '在',\n",
       " '研究',\n",
       " '现在',\n",
       " '我们',\n",
       " '所说',\n",
       " '的',\n",
       " '烟草',\n",
       " '花叶病毒',\n",
       " '时',\n",
       " '就用到',\n",
       " '了',\n",
       " '这种',\n",
       " '过',\n",
       " '泸器',\n",
       " '当时',\n",
       " '他',\n",
       " '从',\n",
       " '染病',\n",
       " '的',\n",
       " '烟草',\n",
       " '植株',\n",
       " '那',\n",
       " '里',\n",
       " '剪取',\n",
       " '了',\n",
       " '一些',\n",
       " '烟草',\n",
       " '叶',\n",
       " '并',\n",
       " '将',\n",
       " '它们',\n",
       " '碾碎',\n",
       " '随后',\n",
       " '他',\n",
       " '发现',\n",
       " '这些',\n",
       " '碎叶',\n",
       " '的',\n",
       " '提取液',\n",
       " '在',\n",
       " '通过',\n",
       " '尚柏朗',\n",
       " '过',\n",
       " '泸器',\n",
       " '后',\n",
       " '仍然',\n",
       " '具有',\n",
       " '感染性',\n",
       " '与此同时',\n",
       " '其他',\n",
       " '几位',\n",
       " '科学家',\n",
       " '证实',\n",
       " '这些',\n",
       " '后来',\n",
       " '被',\n",
       " '称为',\n",
       " '病毒',\n",
       " '的',\n",
       " '媒介',\n",
       " '虽然',\n",
       " '与',\n",
       " '细菌',\n",
       " '不同',\n",
       " '但',\n",
       " '仍',\n",
       " '可',\n",
       " '致病',\n",
       " '它们',\n",
       " '的',\n",
       " '大小',\n",
       " '大概',\n",
       " '是',\n",
       " '细菌',\n",
       " '的',\n",
       " '百分之一',\n",
       " '1899',\n",
       " '年',\n",
       " '荷兰',\n",
       " '微生物学家',\n",
       " '马丁',\n",
       " '努斯',\n",
       " '·',\n",
       " '拜',\n",
       " '耶林克',\n",
       " '观察',\n",
       " '到',\n",
       " '这种',\n",
       " '媒介',\n",
       " '只',\n",
       " '在',\n",
       " '分裂',\n",
       " '细胞',\n",
       " '中',\n",
       " '繁殖',\n",
       " '他',\n",
       " '不能',\n",
       " '确定',\n",
       " '这种',\n",
       " '媒介',\n",
       " '到底',\n",
       " '是',\n",
       " '什么',\n",
       " '所以',\n",
       " '就',\n",
       " '称之为',\n",
       " '\"',\n",
       " 'contagium',\n",
       " 'vivum',\n",
       " 'fluidum',\n",
       " '\"',\n",
       " '意',\n",
       " '爲',\n",
       " '20',\n",
       " '世纪',\n",
       " '初',\n",
       " '英国',\n",
       " '细菌学家',\n",
       " '弗雷德里克',\n",
       " '·',\n",
       " '图尔',\n",
       " '特',\n",
       " '发现',\n",
       " '了',\n",
       " '能',\n",
       " '感染',\n",
       " '细菌',\n",
       " '的',\n",
       " '病毒',\n",
       " '法裔',\n",
       " '加拿大籍',\n",
       " '微生物学家',\n",
       " '亦',\n",
       " '在',\n",
       " '该',\n",
       " '阶段',\n",
       " '发现',\n",
       " '如果',\n",
       " '把',\n",
       " '一种',\n",
       " '病毒',\n",
       " '加',\n",
       " '到',\n",
       " '培养',\n",
       " '有',\n",
       " '细菌',\n",
       " '的',\n",
       " '琼脂',\n",
       " '培养',\n",
       " '基上',\n",
       " '那么',\n",
       " '这个',\n",
       " '培养',\n",
       " '基中',\n",
       " '的',\n",
       " '细菌',\n",
       " '就',\n",
       " '会',\n",
       " '成片',\n",
       " '死亡',\n",
       " '通过',\n",
       " '数出',\n",
       " '出现',\n",
       " '细菌',\n",
       " '大规模',\n",
       " '死亡',\n",
       " '的',\n",
       " '区域',\n",
       " '数',\n",
       " '他',\n",
       " '就',\n",
       " '能算出',\n",
       " '培养',\n",
       " '基中',\n",
       " '的',\n",
       " '病毒',\n",
       " '数量',\n",
       " '借',\n",
       " '助',\n",
       " '德国',\n",
       " '工程师',\n",
       " '恩斯特',\n",
       " '·',\n",
       " '鲁斯卡',\n",
       " '和',\n",
       " '于',\n",
       " '1931',\n",
       " '年',\n",
       " '发明',\n",
       " '的',\n",
       " '电子显微镜',\n",
       " '人们',\n",
       " '第一次',\n",
       " '看到',\n",
       " '了',\n",
       " '病毒',\n",
       " '的',\n",
       " '影像',\n",
       " '1935',\n",
       " '年',\n",
       " '美国',\n",
       " '生物',\n",
       " '化学家',\n",
       " '兼',\n",
       " '病毒学家',\n",
       " '温',\n",
       " '德尔',\n",
       " '·',\n",
       " '梅雷迪思',\n",
       " '·',\n",
       " '斯坦利',\n",
       " '通过',\n",
       " '对',\n",
       " '烟草',\n",
       " '花叶病毒',\n",
       " '的',\n",
       " '研究',\n",
       " '确认',\n",
       " '了',\n",
       " '其',\n",
       " '主要',\n",
       " '成分',\n",
       " '爲',\n",
       " '蛋白',\n",
       " '质',\n",
       " '不久',\n",
       " '之后',\n",
       " '这种',\n",
       " '病毒',\n",
       " '就',\n",
       " '被',\n",
       " '分离',\n",
       " '成',\n",
       " '蛋白质',\n",
       " '和',\n",
       " 'RNA',\n",
       " '两',\n",
       " '部分',\n",
       " '起初',\n",
       " '科学家',\n",
       " '面临',\n",
       " '的',\n",
       " '问题',\n",
       " '是',\n",
       " '不',\n",
       " '知道',\n",
       " '如何',\n",
       " '不',\n",
       " '依靠',\n",
       " '活动',\n",
       " '物来',\n",
       " '培养',\n",
       " '病毒',\n",
       " '1931',\n",
       " '年',\n",
       " '美国',\n",
       " '病理学家',\n",
       " '在',\n",
       " '鸡',\n",
       " '胚中',\n",
       " '培养',\n",
       " '了',\n",
       " '包括',\n",
       " '流感病毒',\n",
       " '在',\n",
       " '内',\n",
       " '的',\n",
       " '几种',\n",
       " '病毒',\n",
       " '成功',\n",
       " '在',\n",
       " '这个',\n",
       " '问题',\n",
       " '上',\n",
       " '取得',\n",
       " '了',\n",
       " '突破',\n",
       " '然而',\n",
       " '有些',\n",
       " '病毒',\n",
       " '却',\n",
       " '无法',\n",
       " '用鸡',\n",
       " '胚',\n",
       " '培养',\n",
       " '不过',\n",
       " '在',\n",
       " '1949',\n",
       " '年',\n",
       " '约翰',\n",
       " '·',\n",
       " '富兰克林',\n",
       " '·',\n",
       " '恩德',\n",
       " '斯',\n",
       " '托马斯',\n",
       " '·',\n",
       " '哈',\n",
       " '克尔',\n",
       " '·',\n",
       " '韦勒',\n",
       " '和',\n",
       " '弗雷德里克',\n",
       " '·',\n",
       " '查普曼',\n",
       " '·',\n",
       " '罗宾斯',\n",
       " '利用',\n",
       " '培养',\n",
       " '有活',\n",
       " '的',\n",
       " '动物细胞',\n",
       " '的',\n",
       " '培养基',\n",
       " '成功',\n",
       " '培养',\n",
       " '出',\n",
       " '了',\n",
       " '嵴',\n",
       " '髓',\n",
       " '灰质炎',\n",
       " '病毒',\n",
       " '之',\n",
       " '后',\n",
       " '这一',\n",
       " '难题',\n",
       " '也',\n",
       " '就',\n",
       " '迎刃而解',\n",
       " '现已',\n",
       " '发现',\n",
       " '超过',\n",
       " '5000',\n",
       " '种',\n",
       " '病毒',\n",
       " '哪里',\n",
       " '有',\n",
       " '生命',\n",
       " '哪里',\n",
       " '就',\n",
       " '有',\n",
       " '病毒',\n",
       " '与',\n",
       " '之',\n",
       " '共存',\n",
       " '活',\n",
       " '细胞',\n",
       " '开始',\n",
       " '进化',\n",
       " '之初',\n",
       " '就',\n",
       " '可能',\n",
       " '有',\n",
       " '病毒',\n",
       " '存在',\n",
       " '因为',\n",
       " '病毒',\n",
       " '不',\n",
       " '形成',\n",
       " '化石',\n",
       " '所以',\n",
       " '它',\n",
       " '的',\n",
       " '起源',\n",
       " '仍然',\n",
       " '不明',\n",
       " '分子生物学',\n",
       " '方法',\n",
       " '是',\n",
       " '推究',\n",
       " '病毒',\n",
       " '起源',\n",
       " '的',\n",
       " '最',\n",
       " '有效',\n",
       " '方法',\n",
       " '不过',\n",
       " '这些',\n",
       " '方法',\n",
       " '需要',\n",
       " '取得',\n",
       " '古老',\n",
       " '病毒',\n",
       " '的',\n",
       " 'DNA',\n",
       " '或',\n",
       " 'RNA',\n",
       " '但现',\n",
       " '在',\n",
       " '的',\n",
       " '实验室',\n",
       " '却',\n",
       " '鲜有',\n",
       " '储存',\n",
       " '超过',\n",
       " '90',\n",
       " '年',\n",
       " '的',\n",
       " '病毒',\n",
       " '分子生物学',\n",
       " '方法',\n",
       " '只能',\n",
       " '追溯',\n",
       " '在',\n",
       " '二十世纪',\n",
       " '演化出',\n",
       " '的',\n",
       " '病毒',\n",
       " '的',\n",
       " '祖先',\n",
       " '目前',\n",
       " '存在',\n",
       " '三种',\n",
       " '有关',\n",
       " '病毒',\n",
       " '的',\n",
       " '起源',\n",
       " '假说',\n",
       " '然而',\n",
       " '这些',\n",
       " '假说',\n",
       " '各有',\n",
       " '各',\n",
       " '的',\n",
       " '问题',\n",
       " '退化',\n",
       " '假说',\n",
       " '无法解释',\n",
       " '为何',\n",
       " '连',\n",
       " '最小',\n",
       " '的',\n",
       " '依赖',\n",
       " '寄生',\n",
       " '生存',\n",
       " '的',\n",
       " '细胞',\n",
       " '生物',\n",
       " '都',\n",
       " '一点',\n",
       " '也',\n",
       " '不',\n",
       " '像',\n",
       " '病毒',\n",
       " '而',\n",
       " '细胞',\n",
       " '起源',\n",
       " '假说',\n",
       " '则',\n",
       " '不能',\n",
       " '解释',\n",
       " '病毒',\n",
       " '爲',\n",
       " '何',\n",
       " '呈',\n",
       " '现现',\n",
       " '在',\n",
       " '的',\n",
       " '结构',\n",
       " '共同',\n",
       " '进化',\n",
       " '学说',\n",
       " '或称',\n",
       " '病毒',\n",
       " '先',\n",
       " '出现',\n",
       " '学说',\n",
       " '则',\n",
       " '与',\n",
       " '病毒',\n",
       " '的',\n",
       " '定义',\n",
       " '矛盾',\n",
       " '因为',\n",
       " '病毒',\n",
       " '必须',\n",
       " '依赖',\n",
       " '宿主',\n",
       " '细胞',\n",
       " '存活',\n",
       " '但是',\n",
       " '病毒',\n",
       " '肇源',\n",
       " '久远',\n",
       " '可追溯',\n",
       " '到',\n",
       " '生命',\n",
       " '进化',\n",
       " '分出',\n",
       " '三域',\n",
       " '以前']"
      ]
     },
     "execution_count": 16,
     "metadata": {},
     "output_type": "execute_result"
    }
   ],
   "source": [
    "TOKENS[:1000]"
   ]
  },
  {
   "cell_type": "code",
   "execution_count": 198,
   "metadata": {},
   "outputs": [],
   "source": [
    "# Valid_Token = re.sub('[+——() ? 【】“”！，：。？、~@#￥%……&*（）《 》]+','',TEXT)"
   ]
  },
  {
   "cell_type": "code",
   "execution_count": 17,
   "metadata": {},
   "outputs": [],
   "source": [
    "valid_TOKEN= [w for w in TOKENS if w.strip()and w!='n']"
   ]
  },
  {
   "cell_type": "code",
   "execution_count": 18,
   "metadata": {},
   "outputs": [
    {
     "data": {
      "text/plain": [
       "40014422"
      ]
     },
     "execution_count": 18,
     "metadata": {},
     "output_type": "execute_result"
    }
   ],
   "source": [
    "len(TOKENS)"
   ]
  },
  {
   "cell_type": "code",
   "execution_count": 19,
   "metadata": {},
   "outputs": [
    {
     "data": {
      "text/plain": [
       "39997273"
      ]
     },
     "execution_count": 19,
     "metadata": {},
     "output_type": "execute_result"
    }
   ],
   "source": [
    "len(valid_TOKEN)"
   ]
  },
  {
   "cell_type": "code",
   "execution_count": 20,
   "metadata": {},
   "outputs": [
    {
     "data": {
      "text/plain": [
       "['病毒',\n",
       " '概论',\n",
       " '病毒',\n",
       " '是',\n",
       " '一种',\n",
       " '依靠',\n",
       " '宿主',\n",
       " '的',\n",
       " '细胞',\n",
       " '来',\n",
       " '繁殖',\n",
       " '的',\n",
       " '类',\n",
       " '生物',\n",
       " '体',\n",
       " '在',\n",
       " '感染',\n",
       " '宿主',\n",
       " '细胞',\n",
       " '之',\n",
       " '后',\n",
       " '病毒',\n",
       " '就',\n",
       " '会',\n",
       " '迫使',\n",
       " '宿主',\n",
       " '细胞',\n",
       " '以',\n",
       " '很快',\n",
       " '的',\n",
       " '速度',\n",
       " '制',\n",
       " '造',\n",
       " '装配',\n",
       " '出数',\n",
       " '千份',\n",
       " '与',\n",
       " '它',\n",
       " '病毒',\n",
       " '相同',\n",
       " '的',\n",
       " '拷贝',\n",
       " '不像',\n",
       " '大多',\n",
       " '数',\n",
       " '生物',\n",
       " '体',\n",
       " '病毒',\n",
       " '没有',\n",
       " '会',\n",
       " '分裂',\n",
       " '的',\n",
       " '细胞',\n",
       " '新',\n",
       " '的',\n",
       " '病毒',\n",
       " '是',\n",
       " '在',\n",
       " '宿主',\n",
       " '细胞',\n",
       " '内',\n",
       " '生产',\n",
       " '组装',\n",
       " '的',\n",
       " '不过',\n",
       " '与',\n",
       " '构造',\n",
       " '更',\n",
       " '简单',\n",
       " '的',\n",
       " '传染',\n",
       " '性病',\n",
       " '原体',\n",
       " '朊病毒',\n",
       " '不同',\n",
       " '病毒',\n",
       " '含有',\n",
       " '能',\n",
       " '使得',\n",
       " '它们',\n",
       " '发生',\n",
       " '变异',\n",
       " '和',\n",
       " '进化',\n",
       " '的',\n",
       " '核酸',\n",
       " '目前',\n",
       " '人们',\n",
       " '已经',\n",
       " '发现',\n",
       " '了',\n",
       " '超过',\n",
       " '5000',\n",
       " '种',\n",
       " '的',\n",
       " '病毒',\n",
       " '病毒',\n",
       " '的',\n",
       " '起源',\n",
       " '至今']"
      ]
     },
     "execution_count": 20,
     "metadata": {},
     "output_type": "execute_result"
    }
   ],
   "source": [
    "valid_TOKEN[:100]"
   ]
  },
  {
   "cell_type": "code",
   "execution_count": 21,
   "metadata": {},
   "outputs": [],
   "source": [
    "word_count = Counter(valid_TOKEN)"
   ]
  },
  {
   "cell_type": "code",
   "execution_count": 22,
   "metadata": {},
   "outputs": [
    {
     "data": {
      "text/plain": [
       "[('的', 1773993),\n",
       " ('年', 651903),\n",
       " ('在', 536014),\n",
       " ('是', 420784),\n",
       " ('于', 352835),\n",
       " ('为', 308899),\n",
       " ('月', 299437),\n",
       " ('和', 295162),\n",
       " ('了', 244272),\n",
       " ('与', 181049),\n",
       " ('·', 180477),\n",
       " ('日', 175977),\n",
       " ('后', 162105),\n",
       " ('人', 155666),\n",
       " ('有', 152914),\n",
       " ('他', 147357),\n",
       " ('中', 145600),\n",
       " ('被', 138457),\n",
       " ('-', 127835),\n",
       " ('并', 119791),\n",
       " ('由', 118819),\n",
       " ('也', 112690),\n",
       " ('而', 104318),\n",
       " ('一个', 94336),\n",
       " ('上', 90781),\n",
       " ('以', 90606),\n",
       " ('；', 88093),\n",
       " ('1', 84454),\n",
       " ('该', 83763),\n",
       " ('将', 78495),\n",
       " ('对', 78062),\n",
       " ('等', 77583),\n",
       " ('时', 71903),\n",
       " ('其', 71324),\n",
       " ('美国', 71093),\n",
       " ('到', 71021),\n",
       " ('位', 70772),\n",
       " ('及', 68670),\n",
       " ('但', 68429),\n",
       " ('2', 67912),\n",
       " ('会', 64436),\n",
       " ('3', 64201),\n",
       " ('\"', 64174),\n",
       " ('至', 62804),\n",
       " ('平方公里', 59515),\n",
       " ('中国', 54737),\n",
       " ('人口', 54581),\n",
       " ('来', 54365),\n",
       " ('4', 54340),\n",
       " ('米', 53807),\n",
       " ('都', 53338),\n",
       " ('10', 53100),\n",
       " ('不', 52288),\n",
       " ('5', 51199),\n",
       " ('之', 50316),\n",
       " ('台', 48856),\n",
       " ('区', 48108),\n",
       " ('从', 48100),\n",
       " ('她', 47302),\n",
       " ('或', 47038),\n",
       " ('8', 46863),\n",
       " ('6', 46688),\n",
       " ('7', 46111),\n",
       " ('面积', 45347),\n",
       " ('12', 43969),\n",
       " ('开始', 43963),\n",
       " ('9', 43725),\n",
       " ('日本', 43058),\n",
       " ('号', 42531),\n",
       " ('可以', 42465),\n",
       " ('曾', 42455),\n",
       " ('第', 42104),\n",
       " ('地', 41648),\n",
       " ('2016', 41270),\n",
       " ('个', 41133),\n",
       " ('11', 40172),\n",
       " ('以及', 39632),\n",
       " ('大', 39090),\n",
       " ('县', 38979),\n",
       " ('名', 38978),\n",
       " ('使用', 38963),\n",
       " ('进行', 38953),\n",
       " ('所', 38206),\n",
       " ('.', 38135),\n",
       " ('地区', 37918),\n",
       " ('下', 37911),\n",
       " ('则', 37783),\n",
       " ('负责', 37752),\n",
       " (':', 37390),\n",
       " ('这', 37294),\n",
       " ('可', 37253),\n",
       " ('国家', 36423),\n",
       " ('着', 36318),\n",
       " ('2017', 35540),\n",
       " ('包括', 35347),\n",
       " ('军', 35214),\n",
       " ('获得', 35168),\n",
       " ('就', 35022),\n",
       " ('内', 34973),\n",
       " ('他们', 34860)]"
      ]
     },
     "execution_count": 22,
     "metadata": {},
     "output_type": "execute_result"
    }
   ],
   "source": [
    "word_count.most_common(100)"
   ]
  },
  {
   "cell_type": "code",
   "execution_count": 81,
   "metadata": {},
   "outputs": [],
   "source": [
    "# valid_word_count = Counter(valid_TEXT)"
   ]
  },
  {
   "cell_type": "code",
   "execution_count": 23,
   "metadata": {},
   "outputs": [],
   "source": [
    "frequences = [f for w,f in word_count.most_common()]"
   ]
  },
  {
   "cell_type": "code",
   "execution_count": 24,
   "metadata": {},
   "outputs": [],
   "source": [
    "X = [i for i  in range (len(frequences[0:]))]"
   ]
  },
  {
   "cell_type": "code",
   "execution_count": 25,
   "metadata": {},
   "outputs": [
    {
     "data": {
      "text/plain": [
       "[<matplotlib.lines.Line2D at 0x20526c7f0>]"
      ]
     },
     "execution_count": 25,
     "metadata": {},
     "output_type": "execute_result"
    },
    {
     "data": {
      "image/png": "[encoded data removed]",
      "text/plain": [
       "<Figure size 432x288 with 1 Axes>"
      ]
     },
     "metadata": {
      "needs_background": "light"
     },
     "output_type": "display_data"
    }
   ],
   "source": [
    "plt.plot(X,frequences)"
   ]
  },
  {
   "cell_type": "code",
   "execution_count": 26,
   "metadata": {},
   "outputs": [
    {
     "data": {
      "text/plain": [
       "[<matplotlib.lines.Line2D at 0x211c31c18>]"
      ]
     },
     "execution_count": 26,
     "metadata": {},
     "output_type": "execute_result"
    },
    {
     "data": {
      "image/png": "[encoded data removed]",
      "text/plain": [
       "<Figure size 432x288 with 1 Axes>"
      ]
     },
     "metadata": {
      "needs_background": "light"
     },
     "output_type": "display_data"
    }
   ],
   "source": [
    "plt.plot(X,np.log(frequences))"
   ]
  },
  {
   "cell_type": "code",
   "execution_count": 27,
   "metadata": {},
   "outputs": [],
   "source": [
    "frequences_sum = sum(frequences)"
   ]
  },
  {
   "cell_type": "code",
   "execution_count": 28,
   "metadata": {},
   "outputs": [
    {
     "data": {
      "text/plain": [
       "2.5001704491203687e-08"
      ]
     },
     "execution_count": 28,
     "metadata": {},
     "output_type": "execute_result"
    }
   ],
   "source": [
    "1/frequences_sum"
   ]
  },
  {
   "cell_type": "code",
   "execution_count": 29,
   "metadata": {},
   "outputs": [],
   "source": [
    "def get_grep(word):\n",
    "    esp = 1/frequences_sum\n",
    "    if word in word_count:\n",
    "        return word_count[word]/frequences_sum\n",
    "    else:\n",
    "        return esp\n",
    "        "
   ]
  },
  {
   "cell_type": "code",
   "execution_count": 30,
   "metadata": {},
   "outputs": [
    {
     "data": {
      "text/plain": [
       "0.0002101643279530582"
      ]
     },
     "execution_count": 30,
     "metadata": {},
     "output_type": "execute_result"
    }
   ],
   "source": [
    "get_grep(\"我们\")"
   ]
  },
  {
   "cell_type": "code",
   "execution_count": 31,
   "metadata": {},
   "outputs": [
    {
     "data": {
      "text/plain": [
       "1.2500852245601845e-06"
      ]
     },
     "execution_count": 31,
     "metadata": {},
     "output_type": "execute_result"
    }
   ],
   "source": [
    "get_grep(\"哈哈\")"
   ]
  },
  {
   "cell_type": "code",
   "execution_count": 32,
   "metadata": {},
   "outputs": [],
   "source": [
    "def product(numbers):\n",
    "    return reduce(lambda n1,n2:n1*n2,numbers)"
   ]
  },
  {
   "cell_type": "code",
   "execution_count": 33,
   "metadata": {},
   "outputs": [
    {
     "data": {
      "text/plain": [
       "40"
      ]
     },
     "execution_count": 33,
     "metadata": {},
     "output_type": "execute_result"
    }
   ],
   "source": [
    "product([1,2,4,5])"
   ]
  },
  {
   "cell_type": "code",
   "execution_count": 34,
   "metadata": {},
   "outputs": [],
   "source": [
    "def language_model_one_gram(string):\n",
    "    words = cut(string)\n",
    "    return product([get_grep(word) for word in words])"
   ]
  },
  {
   "cell_type": "code",
   "execution_count": 35,
   "metadata": {},
   "outputs": [
    {
     "data": {
      "text/plain": [
       "2.193511207916893e-19"
      ]
     },
     "execution_count": 35,
     "metadata": {},
     "output_type": "execute_result"
    }
   ],
   "source": [
    "language_model_one_gram(\"杭州下个月举办会议\")"
   ]
  },
  {
   "cell_type": "code",
   "execution_count": 36,
   "metadata": {},
   "outputs": [
    {
     "data": {
      "text/plain": [
       "['杭州', '下个月', '举办', '会议']"
      ]
     },
     "execution_count": 36,
     "metadata": {},
     "output_type": "execute_result"
    }
   ],
   "source": [
    "cut(\"杭州下个月举办会议\")"
   ]
  },
  {
   "cell_type": "code",
   "execution_count": 37,
   "metadata": {},
   "outputs": [
    {
     "data": {
      "text/plain": [
       "5.395478434996817e-19"
      ]
     },
     "execution_count": 37,
     "metadata": {},
     "output_type": "execute_result"
    }
   ],
   "source": [
    "language_model_one_gram(\"广交会下个月举办\")"
   ]
  },
  {
   "cell_type": "code",
   "execution_count": 38,
   "metadata": {},
   "outputs": [
    {
     "data": {
      "text/plain": [
       "1.5531341984163094e-10"
      ]
     },
     "execution_count": 38,
     "metadata": {},
     "output_type": "execute_result"
    }
   ],
   "source": [
    "language_model_one_gram(\"我是谁\")"
   ]
  },
  {
   "cell_type": "code",
   "execution_count": 39,
   "metadata": {},
   "outputs": [
    {
     "data": {
      "text/plain": [
       "1.553134198416309e-10"
      ]
     },
     "execution_count": 39,
     "metadata": {},
     "output_type": "execute_result"
    }
   ],
   "source": [
    "language_model_one_gram(\"谁是我\")"
   ]
  },
  {
   "cell_type": "code",
   "execution_count": 44,
   "metadata": {},
   "outputs": [],
   "source": [
    "sentences= \"\"\"\n",
    "波音飞机从天上掉下来了\n",
    "奔驰汽车出现了故障\n",
    "女生坐在引擎盖上哭泣\n",
    "女生喜欢坐在宝马里哭\n",
    "\"\"\".split()"
   ]
  },
  {
   "cell_type": "code",
   "execution_count": 45,
   "metadata": {},
   "outputs": [
    {
     "name": "stdout",
     "output_type": "stream",
     "text": [
      "波音飞机从天上掉下来了 5.382871769293054e-26\n",
      "奔驰汽车出现了故障 2.1303309035476502e-20\n",
      "女生坐在引擎盖上哭泣 1.0085445053363242e-24\n",
      "女生喜欢坐在宝马里哭 2.2835222843260025e-28\n"
     ]
    }
   ],
   "source": [
    "for s in sentences:\n",
    "    print(s, language_model_one_gram(s))"
   ]
  },
  {
   "cell_type": "code",
   "execution_count": 50,
   "metadata": {},
   "outputs": [
    {
     "name": "stdout",
     "output_type": "stream",
     "text": [
      "今天买了一台电脑 most possible\n",
      "你是我人生最大的收获 most possible\n",
      "我是谁 most possible\n",
      "女生坐在宝马里哭 most possible\n"
     ]
    }
   ],
   "source": [
    "wait_compared = [\"今天买了一台电脑 今天一台电脑买了我\",\n",
    "                \"你是我的人生作答的收货 你是我人生最大的收获\",\n",
    "                \"我是谁 谁是我\",\n",
    "                \"女生坐在宝马里哭 女生坐在奔驰引擎盖上哭\"]\n",
    "for s in wait_compared:\n",
    "    s1,s2 = s.split()\n",
    "    p1,p2 = language_model_one_gram(s1),language_model_one_gram(s2)\n",
    "    better = s1 if p1 >p2 else s2\n",
    "    print('{} most possible'.format(better))"
   ]
  },
  {
   "cell_type": "code",
   "execution_count": 55,
   "metadata": {},
   "outputs": [],
   "source": [
    "valid_TOKENS= [str(t) for t in valid_TOKEN]"
   ]
  },
  {
   "cell_type": "code",
   "execution_count": 56,
   "metadata": {},
   "outputs": [],
   "source": [
    "all_2_gram = [''.join(valid_TOKENS[i:i+2]) for i in range(len(valid_TOKENS[:-2]))]"
   ]
  },
  {
   "cell_type": "code",
   "execution_count": 58,
   "metadata": {},
   "outputs": [
    {
     "data": {
      "text/plain": [
       "['病毒概论',\n",
       " '概论病毒',\n",
       " '病毒是',\n",
       " '是一种',\n",
       " '一种依靠',\n",
       " '依靠宿主',\n",
       " '宿主的',\n",
       " '的细胞',\n",
       " '细胞来',\n",
       " '来繁殖',\n",
       " '繁殖的',\n",
       " '的类',\n",
       " '类生物',\n",
       " '生物体',\n",
       " '体在',\n",
       " '在感染',\n",
       " '感染宿主',\n",
       " '宿主细胞',\n",
       " '细胞之',\n",
       " '之后']"
      ]
     },
     "execution_count": 58,
     "metadata": {},
     "output_type": "execute_result"
    }
   ],
   "source": [
    "all_2_gram[:20]"
   ]
  },
  {
   "cell_type": "code",
   "execution_count": 59,
   "metadata": {},
   "outputs": [],
   "source": [
    "_2_gram_count = Counter(all_2_gram)"
   ]
  },
  {
   "cell_type": "code",
   "execution_count": 61,
   "metadata": {},
   "outputs": [
    {
     "data": {
      "text/plain": [
       "[('位于', 62165),\n",
       " ('2016年', 37617),\n",
       " ('的一个', 32989),\n",
       " ('2017年', 32345),\n",
       " ('于该国', 31012),\n",
       " ('年人口', 29782),\n",
       " ('2018年', 29099),\n",
       " ('管辖', 26895),\n",
       " ('负责管', 26818),\n",
       " ('10月', 26796),\n",
       " ('9月', 26115),\n",
       " ('2015年', 26039),\n",
       " ('每平方公里', 25500),\n",
       " ('8月', 25469),\n",
       " ('12月', 25393),\n",
       " ('他的', 25345),\n",
       " ('7月', 25101),\n",
       " ('2001年', 24984),\n",
       " ('人口密度每', 24408),\n",
       " ('1月', 23869),\n",
       " ('11月', 23530),\n",
       " ('乌克兰的', 23400),\n",
       " ('3月', 23381),\n",
       " ('6月', 23096),\n",
       " ('5月', 22626),\n",
       " ('4月', 22251),\n",
       " ('年1', 21505),\n",
       " ('中的', 21380),\n",
       " ('平方公里海拔高度', 21058),\n",
       " ('年12', 19691)]"
      ]
     },
     "execution_count": 61,
     "metadata": {},
     "output_type": "execute_result"
    }
   ],
   "source": [
    "_2_gram_count.most_common(30)"
   ]
  },
  {
   "cell_type": "code",
   "execution_count": 65,
   "metadata": {},
   "outputs": [],
   "source": [
    "_2_frequences = [f for w,f in _2_gram_count.most_common()]"
   ]
  },
  {
   "cell_type": "code",
   "execution_count": 66,
   "metadata": {},
   "outputs": [],
   "source": [
    "_all_2_gram_sum = sum(_2_frequences)"
   ]
  },
  {
   "cell_type": "code",
   "execution_count": 67,
   "metadata": {},
   "outputs": [
    {
     "data": {
      "text/plain": [
       "39997271"
      ]
     },
     "execution_count": 67,
     "metadata": {},
     "output_type": "execute_result"
    }
   ],
   "source": [
    "_all_2_gram_sum"
   ]
  },
  {
   "cell_type": "code",
   "execution_count": 69,
   "metadata": {},
   "outputs": [],
   "source": [
    "def get_combination_words(w1,w2):\n",
    "    if w1+w2 in _2_gram_count: return _2_gram_count[w1+w2]/_all_2_gram_sum\n",
    "    else:\n",
    "        return 1/_all_2_gram_sum"
   ]
  },
  {
   "cell_type": "code",
   "execution_count": 70,
   "metadata": {},
   "outputs": [
    {
     "data": {
      "text/plain": [
       "5.250358205688583e-07"
      ]
     },
     "execution_count": 70,
     "metadata": {},
     "output_type": "execute_result"
    }
   ],
   "source": [
    "get_combination_words('去','日本')"
   ]
  },
  {
   "cell_type": "code",
   "execution_count": 71,
   "metadata": {},
   "outputs": [
    {
     "data": {
      "text/plain": [
       "9.250631124308456e-07"
      ]
     },
     "execution_count": 71,
     "metadata": {},
     "output_type": "execute_result"
    }
   ],
   "source": [
    "get_combination_words('去','美国')"
   ]
  },
  {
   "cell_type": "code",
   "execution_count": 72,
   "metadata": {},
   "outputs": [],
   "source": [
    "def get_prob_2_gram(w1,w2):\n",
    "    return get_combination_words(w1,w2)/get_grep(w1)"
   ]
  },
  {
   "cell_type": "code",
   "execution_count": 73,
   "metadata": {},
   "outputs": [
    {
     "data": {
      "text/plain": [
       "0.0031888306343295894"
      ]
     },
     "execution_count": 73,
     "metadata": {},
     "output_type": "execute_result"
    }
   ],
   "source": [
    "get_prob_2_gram('去','美国')"
   ]
  },
  {
   "cell_type": "code",
   "execution_count": 75,
   "metadata": {},
   "outputs": [
    {
     "data": {
      "text/plain": [
       "8.618461173863756e-05"
      ]
     },
     "execution_count": 75,
     "metadata": {},
     "output_type": "execute_result"
    }
   ],
   "source": [
    "get_prob_2_gram('去','厦门')"
   ]
  },
  {
   "cell_type": "code",
   "execution_count": 78,
   "metadata": {},
   "outputs": [],
   "source": [
    "def language_model_of_2_gram(string):\n",
    "    str_prob = 1\n",
    "    words = cut(string)\n",
    "    for i,word in enumerate(words):\n",
    "        if i == 0:\n",
    "            prob = get_grep(word)\n",
    "        else:\n",
    "            pre_word = words[i-1]\n",
    "            prob = get_prob_2_gram(pre_word,word)\n",
    "        str_prob *= prob\n",
    "    return str_prob"
   ]
  },
  {
   "cell_type": "code",
   "execution_count": 79,
   "metadata": {},
   "outputs": [
    {
     "data": {
      "text/plain": [
       "7.680938420689884e-12"
      ]
     },
     "execution_count": 79,
     "metadata": {},
     "output_type": "execute_result"
    }
   ],
   "source": [
    "language_model_of_2_gram('今年溜溜的好')"
   ]
  },
  {
   "cell_type": "code",
   "execution_count": 83,
   "metadata": {},
   "outputs": [
    {
     "name": "stdout",
     "output_type": "stream",
     "text": [
      "今天晚上请你吃大餐我们一起吃日料 is more possible\n",
      "---- 今天晚上请你吃大餐我们一起吃日料 with probility 3.0890783348254365e-29\n",
      "---- 明天晚上请你吃大餐我们一起吃苹果 with probility 1.029692778275146e-29\n",
      "真是一只好看的小猫 is more possible\n",
      "---- 真事一只好看的小猫 with probility 7.342137696266622e-21\n",
      "---- 真是一只好看的小猫 with probility 8.603516522280051e-17\n",
      "今晚我去吃火锅 is more possible\n",
      "---- 今晚我去吃火锅 with probility 3.9791870610934096e-14\n",
      "---- 今晚火锅去吃我 with probility 1.3936712906687034e-15\n",
      "养乐多绿来一杯 is more possible\n",
      "---- 洋葱奶昔来一杯 with probility 3.0659073842503366e-14\n",
      "---- 养乐多绿来一杯 with probility 2.500170699154479e-08\n",
      "我们一起来的这里 is more possible\n",
      "---- 我们依赖的来的这里 with probility 1.0589374848446442e-19\n",
      "---- 我们一起来的这里 with probility 5.85637143712703e-16\n",
      "这个世界不是我们想的那样 is more possible\n",
      "---- 这个世界不是我们想的那样 with probility 1.8442690296768668e-20\n",
      "---- 这是个时节不是我们想的那样 with probility 1.169108214719725e-24\n"
     ]
    }
   ],
   "source": [
    "need_compared = [\n",
    "    \"今天晚上请你吃大餐我们一起吃日料 明天晚上请你吃大餐我们一起吃苹果\",\n",
    "    \"真事一只好看的小猫 真是一只好看的小猫\",\n",
    "    \"今晚我去吃火锅 今晚火锅去吃我\",\n",
    "    \"洋葱奶昔来一杯 养乐多绿来一杯\",\n",
    "    \"我们依赖的来的这里  我们一起来的这里\",\n",
    "    \"这个世界不是我们想的那样 这是个时节不是我们想的那样\"\n",
    "]\n",
    "for s in need_compared:\n",
    "    s1,s2 = s.split()\n",
    "    p1,p2 = language_model_of_2_gram(s1),language_model_of_2_gram(s2)\n",
    "    better = s1 if p1>p2 else s2\n",
    "    print('{} is more possible'.format(better))\n",
    "    print('-'*4 + ' {} with probility {}'.format(s1, p1))\n",
    "    print('-'*4 + ' {} with probility {}'.format(s2, p2))"
   ]
  },
  {
   "cell_type": "code",
   "execution_count": null,
   "metadata": {},
   "outputs": [],
   "source": []
  }
 ],
 "metadata": {
  "kernelspec": {
   "display_name": "Python 3",
   "language": "python",
   "name": "python3"
  },
  "language_info": {
   "codemirror_mode": {
    "name": "ipython",
    "version": 3
   },
   "file_extension": ".py",
   "mimetype": "text/x-python",
   "name": "python",
   "nbconvert_exporter": "python",
   "pygments_lexer": "ipython3",
   "version": "3.7.1"
  }
 },
 "nbformat": 4,
 "nbformat_minor": 2
}
